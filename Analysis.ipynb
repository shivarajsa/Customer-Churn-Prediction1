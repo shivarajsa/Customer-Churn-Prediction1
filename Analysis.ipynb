{
  "cells": [
    {
      "cell_type": "markdown",
      "metadata": {
        "id": "bcee34f9"
      },
      "source": [
        "## Importing Required Libraries"
      ],
      "id": "bcee34f9"
    },
    {
      "cell_type": "code",
      "execution_count": 5,
      "metadata": {
        "id": "47ef5aaa"
      },
      "outputs": [],
      "source": [
        "import pandas as pd\n",
        "import numpy as np\n",
        "import matplotlib.pyplot as plt\n",
        "import seaborn as sns\n",
        "%matplotlib inline"
      ],
      "id": "47ef5aaa"
    },
    {
      "cell_type": "markdown",
      "metadata": {
        "id": "05e043fd"
      },
      "source": [
        "## Importing Dataset"
      ],
      "id": "05e043fd"
    },
    {
      "cell_type": "code",
      "execution_count": 130,
      "metadata": {
        "colab": {
          "base_uri": "https://localhost:8080/",
          "height": 424
        },
        "id": "29e0014c",
        "scrolled": false,
        "outputId": "7d1cc0d3-99ab-40db-9db5-9f11b1030039"
      },
      "outputs": [
        {
          "output_type": "execute_result",
          "data": {
            "text/plain": [
              "       Churn         Country  CustomerID InvoiceDate  Quantity  UnitPrice\n",
              "0         No  United Kingdom     13047.0  2010-12-01       6.0       2.55\n",
              "1         No  United Kingdom     12583.0  2010-12-01       6.0       3.39\n",
              "2         No  United Kingdom     13748.0  2010-12-01       8.0       2.75\n",
              "3         No  United Kingdom     15291.0  2010-12-01       6.0       3.39\n",
              "4         No  United Kingdom     14688.0  2010-12-01       6.0       3.39\n",
              "...      ...             ...         ...         ...       ...        ...\n",
              "132561   Yes  United Kingdom     15544.0  2011-05-12       8.0       1.95\n",
              "132562   Yes  United Kingdom     15544.0  2011-05-12      10.0       1.65\n",
              "132563   Yes  United Kingdom     15544.0  2011-05-12      16.0       0.42\n",
              "132564   Yes  United Kingdom     15544.0  2011-05-12       8.0       1.25\n",
              "132565   Yes  United Kingdom     15544.0  2011-01-01       NaN        NaN\n",
              "\n",
              "[132566 rows x 6 columns]"
            ],
            "text/html": [
              "\n",
              "  <div id=\"df-bd9cb80a-f9af-43bb-8c38-1f5a9164b310\">\n",
              "    <div class=\"colab-df-container\">\n",
              "      <div>\n",
              "<style scoped>\n",
              "    .dataframe tbody tr th:only-of-type {\n",
              "        vertical-align: middle;\n",
              "    }\n",
              "\n",
              "    .dataframe tbody tr th {\n",
              "        vertical-align: top;\n",
              "    }\n",
              "\n",
              "    .dataframe thead th {\n",
              "        text-align: right;\n",
              "    }\n",
              "</style>\n",
              "<table border=\"1\" class=\"dataframe\">\n",
              "  <thead>\n",
              "    <tr style=\"text-align: right;\">\n",
              "      <th></th>\n",
              "      <th>Churn</th>\n",
              "      <th>Country</th>\n",
              "      <th>CustomerID</th>\n",
              "      <th>InvoiceDate</th>\n",
              "      <th>Quantity</th>\n",
              "      <th>UnitPrice</th>\n",
              "    </tr>\n",
              "  </thead>\n",
              "  <tbody>\n",
              "    <tr>\n",
              "      <th>0</th>\n",
              "      <td>No</td>\n",
              "      <td>United Kingdom</td>\n",
              "      <td>13047.0</td>\n",
              "      <td>2010-12-01</td>\n",
              "      <td>6.0</td>\n",
              "      <td>2.55</td>\n",
              "    </tr>\n",
              "    <tr>\n",
              "      <th>1</th>\n",
              "      <td>No</td>\n",
              "      <td>United Kingdom</td>\n",
              "      <td>12583.0</td>\n",
              "      <td>2010-12-01</td>\n",
              "      <td>6.0</td>\n",
              "      <td>3.39</td>\n",
              "    </tr>\n",
              "    <tr>\n",
              "      <th>2</th>\n",
              "      <td>No</td>\n",
              "      <td>United Kingdom</td>\n",
              "      <td>13748.0</td>\n",
              "      <td>2010-12-01</td>\n",
              "      <td>8.0</td>\n",
              "      <td>2.75</td>\n",
              "    </tr>\n",
              "    <tr>\n",
              "      <th>3</th>\n",
              "      <td>No</td>\n",
              "      <td>United Kingdom</td>\n",
              "      <td>15291.0</td>\n",
              "      <td>2010-12-01</td>\n",
              "      <td>6.0</td>\n",
              "      <td>3.39</td>\n",
              "    </tr>\n",
              "    <tr>\n",
              "      <th>4</th>\n",
              "      <td>No</td>\n",
              "      <td>United Kingdom</td>\n",
              "      <td>14688.0</td>\n",
              "      <td>2010-12-01</td>\n",
              "      <td>6.0</td>\n",
              "      <td>3.39</td>\n",
              "    </tr>\n",
              "    <tr>\n",
              "      <th>...</th>\n",
              "      <td>...</td>\n",
              "      <td>...</td>\n",
              "      <td>...</td>\n",
              "      <td>...</td>\n",
              "      <td>...</td>\n",
              "      <td>...</td>\n",
              "    </tr>\n",
              "    <tr>\n",
              "      <th>132561</th>\n",
              "      <td>Yes</td>\n",
              "      <td>United Kingdom</td>\n",
              "      <td>15544.0</td>\n",
              "      <td>2011-05-12</td>\n",
              "      <td>8.0</td>\n",
              "      <td>1.95</td>\n",
              "    </tr>\n",
              "    <tr>\n",
              "      <th>132562</th>\n",
              "      <td>Yes</td>\n",
              "      <td>United Kingdom</td>\n",
              "      <td>15544.0</td>\n",
              "      <td>2011-05-12</td>\n",
              "      <td>10.0</td>\n",
              "      <td>1.65</td>\n",
              "    </tr>\n",
              "    <tr>\n",
              "      <th>132563</th>\n",
              "      <td>Yes</td>\n",
              "      <td>United Kingdom</td>\n",
              "      <td>15544.0</td>\n",
              "      <td>2011-05-12</td>\n",
              "      <td>16.0</td>\n",
              "      <td>0.42</td>\n",
              "    </tr>\n",
              "    <tr>\n",
              "      <th>132564</th>\n",
              "      <td>Yes</td>\n",
              "      <td>United Kingdom</td>\n",
              "      <td>15544.0</td>\n",
              "      <td>2011-05-12</td>\n",
              "      <td>8.0</td>\n",
              "      <td>1.25</td>\n",
              "    </tr>\n",
              "    <tr>\n",
              "      <th>132565</th>\n",
              "      <td>Yes</td>\n",
              "      <td>United Kingdom</td>\n",
              "      <td>15544.0</td>\n",
              "      <td>2011-01-01</td>\n",
              "      <td>NaN</td>\n",
              "      <td>NaN</td>\n",
              "    </tr>\n",
              "  </tbody>\n",
              "</table>\n",
              "<p>132566 rows × 6 columns</p>\n",
              "</div>\n",
              "      <button class=\"colab-df-convert\" onclick=\"convertToInteractive('df-bd9cb80a-f9af-43bb-8c38-1f5a9164b310')\"\n",
              "              title=\"Convert this dataframe to an interactive table.\"\n",
              "              style=\"display:none;\">\n",
              "        \n",
              "  <svg xmlns=\"http://www.w3.org/2000/svg\" height=\"24px\"viewBox=\"0 0 24 24\"\n",
              "       width=\"24px\">\n",
              "    <path d=\"M0 0h24v24H0V0z\" fill=\"none\"/>\n",
              "    <path d=\"M18.56 5.44l.94 2.06.94-2.06 2.06-.94-2.06-.94-.94-2.06-.94 2.06-2.06.94zm-11 1L8.5 8.5l.94-2.06 2.06-.94-2.06-.94L8.5 2.5l-.94 2.06-2.06.94zm10 10l.94 2.06.94-2.06 2.06-.94-2.06-.94-.94-2.06-.94 2.06-2.06.94z\"/><path d=\"M17.41 7.96l-1.37-1.37c-.4-.4-.92-.59-1.43-.59-.52 0-1.04.2-1.43.59L10.3 9.45l-7.72 7.72c-.78.78-.78 2.05 0 2.83L4 21.41c.39.39.9.59 1.41.59.51 0 1.02-.2 1.41-.59l7.78-7.78 2.81-2.81c.8-.78.8-2.07 0-2.86zM5.41 20L4 18.59l7.72-7.72 1.47 1.35L5.41 20z\"/>\n",
              "  </svg>\n",
              "      </button>\n",
              "      \n",
              "  <style>\n",
              "    .colab-df-container {\n",
              "      display:flex;\n",
              "      flex-wrap:wrap;\n",
              "      gap: 12px;\n",
              "    }\n",
              "\n",
              "    .colab-df-convert {\n",
              "      background-color: #E8F0FE;\n",
              "      border: none;\n",
              "      border-radius: 50%;\n",
              "      cursor: pointer;\n",
              "      display: none;\n",
              "      fill: #1967D2;\n",
              "      height: 32px;\n",
              "      padding: 0 0 0 0;\n",
              "      width: 32px;\n",
              "    }\n",
              "\n",
              "    .colab-df-convert:hover {\n",
              "      background-color: #E2EBFA;\n",
              "      box-shadow: 0px 1px 2px rgba(60, 64, 67, 0.3), 0px 1px 3px 1px rgba(60, 64, 67, 0.15);\n",
              "      fill: #174EA6;\n",
              "    }\n",
              "\n",
              "    [theme=dark] .colab-df-convert {\n",
              "      background-color: #3B4455;\n",
              "      fill: #D2E3FC;\n",
              "    }\n",
              "\n",
              "    [theme=dark] .colab-df-convert:hover {\n",
              "      background-color: #434B5C;\n",
              "      box-shadow: 0px 1px 3px 1px rgba(0, 0, 0, 0.15);\n",
              "      filter: drop-shadow(0px 1px 2px rgba(0, 0, 0, 0.3));\n",
              "      fill: #FFFFFF;\n",
              "    }\n",
              "  </style>\n",
              "\n",
              "      <script>\n",
              "        const buttonEl =\n",
              "          document.querySelector('#df-bd9cb80a-f9af-43bb-8c38-1f5a9164b310 button.colab-df-convert');\n",
              "        buttonEl.style.display =\n",
              "          google.colab.kernel.accessAllowed ? 'block' : 'none';\n",
              "\n",
              "        async function convertToInteractive(key) {\n",
              "          const element = document.querySelector('#df-bd9cb80a-f9af-43bb-8c38-1f5a9164b310');\n",
              "          const dataTable =\n",
              "            await google.colab.kernel.invokeFunction('convertToInteractive',\n",
              "                                                     [key], {});\n",
              "          if (!dataTable) return;\n",
              "\n",
              "          const docLinkHtml = 'Like what you see? Visit the ' +\n",
              "            '<a target=\"_blank\" href=https://colab.research.google.com/notebooks/data_table.ipynb>data table notebook</a>'\n",
              "            + ' to learn more about interactive tables.';\n",
              "          element.innerHTML = '';\n",
              "          dataTable['output_type'] = 'display_data';\n",
              "          await google.colab.output.renderOutput(dataTable, element);\n",
              "          const docLink = document.createElement('div');\n",
              "          docLink.innerHTML = docLinkHtml;\n",
              "          element.appendChild(docLink);\n",
              "        }\n",
              "      </script>\n",
              "    </div>\n",
              "  </div>\n",
              "  "
            ]
          },
          "metadata": {},
          "execution_count": 130
        }
      ],
      "source": [
        "df = pd.read_csv(\"./Final Dataset for analysis (2).csv\", parse_dates=[\"InvoiceDate\"])\n",
        "df"
      ],
      "id": "29e0014c"
    },
    {
      "cell_type": "code",
      "execution_count": 7,
      "metadata": {
        "colab": {
          "base_uri": "https://localhost:8080/",
          "height": 206
        },
        "id": "1412abde",
        "outputId": "a964ed43-2839-4754-ba6c-4ae50f9537c3"
      },
      "outputs": [
        {
          "output_type": "execute_result",
          "data": {
            "text/plain": [
              "  Churn         Country  CustomerID InvoiceDate  Quantity  UnitPrice\n",
              "0    No  United Kingdom     13047.0  2010-12-01       6.0       2.55\n",
              "1    No  United Kingdom     12583.0  2010-12-01       6.0       3.39\n",
              "2    No  United Kingdom     13748.0  2010-12-01       8.0       2.75\n",
              "3    No  United Kingdom     15291.0  2010-12-01       6.0       3.39\n",
              "4    No  United Kingdom     14688.0  2010-12-01       6.0       3.39"
            ],
            "text/html": [
              "\n",
              "  <div id=\"df-384e9301-1a03-4042-8e71-429dcf0e9c5d\">\n",
              "    <div class=\"colab-df-container\">\n",
              "      <div>\n",
              "<style scoped>\n",
              "    .dataframe tbody tr th:only-of-type {\n",
              "        vertical-align: middle;\n",
              "    }\n",
              "\n",
              "    .dataframe tbody tr th {\n",
              "        vertical-align: top;\n",
              "    }\n",
              "\n",
              "    .dataframe thead th {\n",
              "        text-align: right;\n",
              "    }\n",
              "</style>\n",
              "<table border=\"1\" class=\"dataframe\">\n",
              "  <thead>\n",
              "    <tr style=\"text-align: right;\">\n",
              "      <th></th>\n",
              "      <th>Churn</th>\n",
              "      <th>Country</th>\n",
              "      <th>CustomerID</th>\n",
              "      <th>InvoiceDate</th>\n",
              "      <th>Quantity</th>\n",
              "      <th>UnitPrice</th>\n",
              "    </tr>\n",
              "  </thead>\n",
              "  <tbody>\n",
              "    <tr>\n",
              "      <th>0</th>\n",
              "      <td>No</td>\n",
              "      <td>United Kingdom</td>\n",
              "      <td>13047.0</td>\n",
              "      <td>2010-12-01</td>\n",
              "      <td>6.0</td>\n",
              "      <td>2.55</td>\n",
              "    </tr>\n",
              "    <tr>\n",
              "      <th>1</th>\n",
              "      <td>No</td>\n",
              "      <td>United Kingdom</td>\n",
              "      <td>12583.0</td>\n",
              "      <td>2010-12-01</td>\n",
              "      <td>6.0</td>\n",
              "      <td>3.39</td>\n",
              "    </tr>\n",
              "    <tr>\n",
              "      <th>2</th>\n",
              "      <td>No</td>\n",
              "      <td>United Kingdom</td>\n",
              "      <td>13748.0</td>\n",
              "      <td>2010-12-01</td>\n",
              "      <td>8.0</td>\n",
              "      <td>2.75</td>\n",
              "    </tr>\n",
              "    <tr>\n",
              "      <th>3</th>\n",
              "      <td>No</td>\n",
              "      <td>United Kingdom</td>\n",
              "      <td>15291.0</td>\n",
              "      <td>2010-12-01</td>\n",
              "      <td>6.0</td>\n",
              "      <td>3.39</td>\n",
              "    </tr>\n",
              "    <tr>\n",
              "      <th>4</th>\n",
              "      <td>No</td>\n",
              "      <td>United Kingdom</td>\n",
              "      <td>14688.0</td>\n",
              "      <td>2010-12-01</td>\n",
              "      <td>6.0</td>\n",
              "      <td>3.39</td>\n",
              "    </tr>\n",
              "  </tbody>\n",
              "</table>\n",
              "</div>\n",
              "      <button class=\"colab-df-convert\" onclick=\"convertToInteractive('df-384e9301-1a03-4042-8e71-429dcf0e9c5d')\"\n",
              "              title=\"Convert this dataframe to an interactive table.\"\n",
              "              style=\"display:none;\">\n",
              "        \n",
              "  <svg xmlns=\"http://www.w3.org/2000/svg\" height=\"24px\"viewBox=\"0 0 24 24\"\n",
              "       width=\"24px\">\n",
              "    <path d=\"M0 0h24v24H0V0z\" fill=\"none\"/>\n",
              "    <path d=\"M18.56 5.44l.94 2.06.94-2.06 2.06-.94-2.06-.94-.94-2.06-.94 2.06-2.06.94zm-11 1L8.5 8.5l.94-2.06 2.06-.94-2.06-.94L8.5 2.5l-.94 2.06-2.06.94zm10 10l.94 2.06.94-2.06 2.06-.94-2.06-.94-.94-2.06-.94 2.06-2.06.94z\"/><path d=\"M17.41 7.96l-1.37-1.37c-.4-.4-.92-.59-1.43-.59-.52 0-1.04.2-1.43.59L10.3 9.45l-7.72 7.72c-.78.78-.78 2.05 0 2.83L4 21.41c.39.39.9.59 1.41.59.51 0 1.02-.2 1.41-.59l7.78-7.78 2.81-2.81c.8-.78.8-2.07 0-2.86zM5.41 20L4 18.59l7.72-7.72 1.47 1.35L5.41 20z\"/>\n",
              "  </svg>\n",
              "      </button>\n",
              "      \n",
              "  <style>\n",
              "    .colab-df-container {\n",
              "      display:flex;\n",
              "      flex-wrap:wrap;\n",
              "      gap: 12px;\n",
              "    }\n",
              "\n",
              "    .colab-df-convert {\n",
              "      background-color: #E8F0FE;\n",
              "      border: none;\n",
              "      border-radius: 50%;\n",
              "      cursor: pointer;\n",
              "      display: none;\n",
              "      fill: #1967D2;\n",
              "      height: 32px;\n",
              "      padding: 0 0 0 0;\n",
              "      width: 32px;\n",
              "    }\n",
              "\n",
              "    .colab-df-convert:hover {\n",
              "      background-color: #E2EBFA;\n",
              "      box-shadow: 0px 1px 2px rgba(60, 64, 67, 0.3), 0px 1px 3px 1px rgba(60, 64, 67, 0.15);\n",
              "      fill: #174EA6;\n",
              "    }\n",
              "\n",
              "    [theme=dark] .colab-df-convert {\n",
              "      background-color: #3B4455;\n",
              "      fill: #D2E3FC;\n",
              "    }\n",
              "\n",
              "    [theme=dark] .colab-df-convert:hover {\n",
              "      background-color: #434B5C;\n",
              "      box-shadow: 0px 1px 3px 1px rgba(0, 0, 0, 0.15);\n",
              "      filter: drop-shadow(0px 1px 2px rgba(0, 0, 0, 0.3));\n",
              "      fill: #FFFFFF;\n",
              "    }\n",
              "  </style>\n",
              "\n",
              "      <script>\n",
              "        const buttonEl =\n",
              "          document.querySelector('#df-384e9301-1a03-4042-8e71-429dcf0e9c5d button.colab-df-convert');\n",
              "        buttonEl.style.display =\n",
              "          google.colab.kernel.accessAllowed ? 'block' : 'none';\n",
              "\n",
              "        async function convertToInteractive(key) {\n",
              "          const element = document.querySelector('#df-384e9301-1a03-4042-8e71-429dcf0e9c5d');\n",
              "          const dataTable =\n",
              "            await google.colab.kernel.invokeFunction('convertToInteractive',\n",
              "                                                     [key], {});\n",
              "          if (!dataTable) return;\n",
              "\n",
              "          const docLinkHtml = 'Like what you see? Visit the ' +\n",
              "            '<a target=\"_blank\" href=https://colab.research.google.com/notebooks/data_table.ipynb>data table notebook</a>'\n",
              "            + ' to learn more about interactive tables.';\n",
              "          element.innerHTML = '';\n",
              "          dataTable['output_type'] = 'display_data';\n",
              "          await google.colab.output.renderOutput(dataTable, element);\n",
              "          const docLink = document.createElement('div');\n",
              "          docLink.innerHTML = docLinkHtml;\n",
              "          element.appendChild(docLink);\n",
              "        }\n",
              "      </script>\n",
              "    </div>\n",
              "  </div>\n",
              "  "
            ]
          },
          "metadata": {},
          "execution_count": 7
        }
      ],
      "source": [
        "df.head()"
      ],
      "id": "1412abde"
    },
    {
      "cell_type": "code",
      "execution_count": 8,
      "metadata": {
        "colab": {
          "base_uri": "https://localhost:8080/"
        },
        "id": "ccb9e14d",
        "outputId": "89dcb827-3365-4c35-9fdf-a02bec199255"
      },
      "outputs": [
        {
          "output_type": "stream",
          "name": "stdout",
          "text": [
            "<class 'pandas.core.frame.DataFrame'>\n",
            "RangeIndex: 132566 entries, 0 to 132565\n",
            "Data columns (total 6 columns):\n",
            " #   Column       Non-Null Count   Dtype         \n",
            "---  ------       --------------   -----         \n",
            " 0   Churn        132566 non-null  object        \n",
            " 1   Country      132035 non-null  object        \n",
            " 2   CustomerID   132566 non-null  float64       \n",
            " 3   InvoiceDate  132035 non-null  datetime64[ns]\n",
            " 4   Quantity     132034 non-null  float64       \n",
            " 5   UnitPrice    132034 non-null  float64       \n",
            "dtypes: datetime64[ns](1), float64(3), object(2)\n",
            "memory usage: 6.1+ MB\n"
          ]
        }
      ],
      "source": [
        "df.info()"
      ],
      "id": "ccb9e14d"
    },
    {
      "cell_type": "code",
      "execution_count": 9,
      "metadata": {
        "colab": {
          "base_uri": "https://localhost:8080/",
          "height": 143
        },
        "id": "f3184101",
        "outputId": "f49566bc-c345-4e1a-a567-0c66711d1d41"
      },
      "outputs": [
        {
          "output_type": "execute_result",
          "data": {
            "text/plain": [
              "               count          mean          std      min       25%       50%  \\\n",
              "CustomerID  132566.0  15264.090966  1723.934590  12346.0  13815.00  15128.00   \n",
              "Quantity    132034.0     12.156376   293.996300 -74215.0      2.00      5.00   \n",
              "UnitPrice   132034.0      3.604263    42.284235      0.0      1.25      1.95   \n",
              "\n",
              "                 75%       max  \n",
              "CustomerID  16788.00  18287.00  \n",
              "Quantity       12.00  74215.00  \n",
              "UnitPrice       3.75   8142.75  "
            ],
            "text/html": [
              "\n",
              "  <div id=\"df-5215ba5f-ed8d-4bb0-b88e-e372d455a813\">\n",
              "    <div class=\"colab-df-container\">\n",
              "      <div>\n",
              "<style scoped>\n",
              "    .dataframe tbody tr th:only-of-type {\n",
              "        vertical-align: middle;\n",
              "    }\n",
              "\n",
              "    .dataframe tbody tr th {\n",
              "        vertical-align: top;\n",
              "    }\n",
              "\n",
              "    .dataframe thead th {\n",
              "        text-align: right;\n",
              "    }\n",
              "</style>\n",
              "<table border=\"1\" class=\"dataframe\">\n",
              "  <thead>\n",
              "    <tr style=\"text-align: right;\">\n",
              "      <th></th>\n",
              "      <th>count</th>\n",
              "      <th>mean</th>\n",
              "      <th>std</th>\n",
              "      <th>min</th>\n",
              "      <th>25%</th>\n",
              "      <th>50%</th>\n",
              "      <th>75%</th>\n",
              "      <th>max</th>\n",
              "    </tr>\n",
              "  </thead>\n",
              "  <tbody>\n",
              "    <tr>\n",
              "      <th>CustomerID</th>\n",
              "      <td>132566.0</td>\n",
              "      <td>15264.090966</td>\n",
              "      <td>1723.934590</td>\n",
              "      <td>12346.0</td>\n",
              "      <td>13815.00</td>\n",
              "      <td>15128.00</td>\n",
              "      <td>16788.00</td>\n",
              "      <td>18287.00</td>\n",
              "    </tr>\n",
              "    <tr>\n",
              "      <th>Quantity</th>\n",
              "      <td>132034.0</td>\n",
              "      <td>12.156376</td>\n",
              "      <td>293.996300</td>\n",
              "      <td>-74215.0</td>\n",
              "      <td>2.00</td>\n",
              "      <td>5.00</td>\n",
              "      <td>12.00</td>\n",
              "      <td>74215.00</td>\n",
              "    </tr>\n",
              "    <tr>\n",
              "      <th>UnitPrice</th>\n",
              "      <td>132034.0</td>\n",
              "      <td>3.604263</td>\n",
              "      <td>42.284235</td>\n",
              "      <td>0.0</td>\n",
              "      <td>1.25</td>\n",
              "      <td>1.95</td>\n",
              "      <td>3.75</td>\n",
              "      <td>8142.75</td>\n",
              "    </tr>\n",
              "  </tbody>\n",
              "</table>\n",
              "</div>\n",
              "      <button class=\"colab-df-convert\" onclick=\"convertToInteractive('df-5215ba5f-ed8d-4bb0-b88e-e372d455a813')\"\n",
              "              title=\"Convert this dataframe to an interactive table.\"\n",
              "              style=\"display:none;\">\n",
              "        \n",
              "  <svg xmlns=\"http://www.w3.org/2000/svg\" height=\"24px\"viewBox=\"0 0 24 24\"\n",
              "       width=\"24px\">\n",
              "    <path d=\"M0 0h24v24H0V0z\" fill=\"none\"/>\n",
              "    <path d=\"M18.56 5.44l.94 2.06.94-2.06 2.06-.94-2.06-.94-.94-2.06-.94 2.06-2.06.94zm-11 1L8.5 8.5l.94-2.06 2.06-.94-2.06-.94L8.5 2.5l-.94 2.06-2.06.94zm10 10l.94 2.06.94-2.06 2.06-.94-2.06-.94-.94-2.06-.94 2.06-2.06.94z\"/><path d=\"M17.41 7.96l-1.37-1.37c-.4-.4-.92-.59-1.43-.59-.52 0-1.04.2-1.43.59L10.3 9.45l-7.72 7.72c-.78.78-.78 2.05 0 2.83L4 21.41c.39.39.9.59 1.41.59.51 0 1.02-.2 1.41-.59l7.78-7.78 2.81-2.81c.8-.78.8-2.07 0-2.86zM5.41 20L4 18.59l7.72-7.72 1.47 1.35L5.41 20z\"/>\n",
              "  </svg>\n",
              "      </button>\n",
              "      \n",
              "  <style>\n",
              "    .colab-df-container {\n",
              "      display:flex;\n",
              "      flex-wrap:wrap;\n",
              "      gap: 12px;\n",
              "    }\n",
              "\n",
              "    .colab-df-convert {\n",
              "      background-color: #E8F0FE;\n",
              "      border: none;\n",
              "      border-radius: 50%;\n",
              "      cursor: pointer;\n",
              "      display: none;\n",
              "      fill: #1967D2;\n",
              "      height: 32px;\n",
              "      padding: 0 0 0 0;\n",
              "      width: 32px;\n",
              "    }\n",
              "\n",
              "    .colab-df-convert:hover {\n",
              "      background-color: #E2EBFA;\n",
              "      box-shadow: 0px 1px 2px rgba(60, 64, 67, 0.3), 0px 1px 3px 1px rgba(60, 64, 67, 0.15);\n",
              "      fill: #174EA6;\n",
              "    }\n",
              "\n",
              "    [theme=dark] .colab-df-convert {\n",
              "      background-color: #3B4455;\n",
              "      fill: #D2E3FC;\n",
              "    }\n",
              "\n",
              "    [theme=dark] .colab-df-convert:hover {\n",
              "      background-color: #434B5C;\n",
              "      box-shadow: 0px 1px 3px 1px rgba(0, 0, 0, 0.15);\n",
              "      filter: drop-shadow(0px 1px 2px rgba(0, 0, 0, 0.3));\n",
              "      fill: #FFFFFF;\n",
              "    }\n",
              "  </style>\n",
              "\n",
              "      <script>\n",
              "        const buttonEl =\n",
              "          document.querySelector('#df-5215ba5f-ed8d-4bb0-b88e-e372d455a813 button.colab-df-convert');\n",
              "        buttonEl.style.display =\n",
              "          google.colab.kernel.accessAllowed ? 'block' : 'none';\n",
              "\n",
              "        async function convertToInteractive(key) {\n",
              "          const element = document.querySelector('#df-5215ba5f-ed8d-4bb0-b88e-e372d455a813');\n",
              "          const dataTable =\n",
              "            await google.colab.kernel.invokeFunction('convertToInteractive',\n",
              "                                                     [key], {});\n",
              "          if (!dataTable) return;\n",
              "\n",
              "          const docLinkHtml = 'Like what you see? Visit the ' +\n",
              "            '<a target=\"_blank\" href=https://colab.research.google.com/notebooks/data_table.ipynb>data table notebook</a>'\n",
              "            + ' to learn more about interactive tables.';\n",
              "          element.innerHTML = '';\n",
              "          dataTable['output_type'] = 'display_data';\n",
              "          await google.colab.output.renderOutput(dataTable, element);\n",
              "          const docLink = document.createElement('div');\n",
              "          docLink.innerHTML = docLinkHtml;\n",
              "          element.appendChild(docLink);\n",
              "        }\n",
              "      </script>\n",
              "    </div>\n",
              "  </div>\n",
              "  "
            ]
          },
          "metadata": {},
          "execution_count": 9
        }
      ],
      "source": [
        "df.describe().T"
      ],
      "id": "f3184101"
    },
    {
      "cell_type": "code",
      "execution_count": 10,
      "metadata": {
        "colab": {
          "base_uri": "https://localhost:8080/"
        },
        "id": "80804798",
        "scrolled": true,
        "outputId": "bca299ef-a122-44e6-dc47-0af5fa8451b0"
      },
      "outputs": [
        {
          "output_type": "execute_result",
          "data": {
            "text/plain": [
              "Churn            0\n",
              "Country        531\n",
              "CustomerID       0\n",
              "InvoiceDate    531\n",
              "Quantity       532\n",
              "UnitPrice      532\n",
              "dtype: int64"
            ]
          },
          "metadata": {},
          "execution_count": 10
        }
      ],
      "source": [
        "df.isna().sum()"
      ],
      "id": "80804798"
    },
    {
      "cell_type": "code",
      "execution_count": 11,
      "metadata": {
        "colab": {
          "base_uri": "https://localhost:8080/"
        },
        "id": "5dc1f004",
        "outputId": "6137cb1b-07a5-4650-e917-ed48530ef243"
      },
      "outputs": [
        {
          "output_type": "execute_result",
          "data": {
            "text/plain": [
              "Churn          0\n",
              "Country        0\n",
              "CustomerID     0\n",
              "InvoiceDate    0\n",
              "Quantity       0\n",
              "UnitPrice      0\n",
              "dtype: int64"
            ]
          },
          "metadata": {},
          "execution_count": 11
        }
      ],
      "source": [
        "df = df.dropna()\n",
        "df.isna().sum()"
      ],
      "id": "5dc1f004"
    },
    {
      "cell_type": "code",
      "execution_count": 12,
      "metadata": {
        "colab": {
          "base_uri": "https://localhost:8080/"
        },
        "id": "230a4255",
        "outputId": "5d2a2918-fc23-49dc-b481-e34e188c3ef4"
      },
      "outputs": [
        {
          "output_type": "stream",
          "name": "stdout",
          "text": [
            "(132034, 6)\n"
          ]
        }
      ],
      "source": [
        "print(df.shape)"
      ],
      "id": "230a4255"
    },
    {
      "cell_type": "code",
      "execution_count": 134,
      "metadata": {
        "id": "2c07d298"
      },
      "outputs": [],
      "source": [
        "df['Year'] = df.InvoiceDate.dt.year"
      ],
      "id": "2c07d298"
    },
    {
      "cell_type": "code",
      "execution_count": 135,
      "metadata": {
        "id": "561672f7"
      },
      "outputs": [],
      "source": [
        "df['Month'] = df.InvoiceDate.dt.month"
      ],
      "id": "561672f7"
    },
    {
      "cell_type": "code",
      "execution_count": 136,
      "metadata": {
        "id": "a9ace475"
      },
      "outputs": [],
      "source": [
        "df['Date'] = df.InvoiceDate.dt.day"
      ],
      "id": "a9ace475"
    },
    {
      "cell_type": "code",
      "execution_count": 137,
      "metadata": {
        "id": "8a8d1e5c"
      },
      "outputs": [],
      "source": [
        "df['Day of Year'] = df.InvoiceDate.dt.dayofyear"
      ],
      "id": "8a8d1e5c"
    },
    {
      "cell_type": "code",
      "execution_count": 138,
      "metadata": {
        "colab": {
          "base_uri": "https://localhost:8080/",
          "height": 424
        },
        "id": "c73ac6e4",
        "outputId": "5337de22-b998-4d93-ecb9-1fad4012b241",
        "scrolled": false
      },
      "outputs": [
        {
          "output_type": "execute_result",
          "data": {
            "text/plain": [
              "       Churn         Country  CustomerID InvoiceDate  Quantity  UnitPrice  \\\n",
              "0         No  United Kingdom     13047.0  2010-12-01       6.0       2.55   \n",
              "1         No  United Kingdom     12583.0  2010-12-01       6.0       3.39   \n",
              "2         No  United Kingdom     13748.0  2010-12-01       8.0       2.75   \n",
              "3         No  United Kingdom     15291.0  2010-12-01       6.0       3.39   \n",
              "4         No  United Kingdom     14688.0  2010-12-01       6.0       3.39   \n",
              "...      ...             ...         ...         ...       ...        ...   \n",
              "132561   Yes  United Kingdom     15544.0  2011-05-12       8.0       1.95   \n",
              "132562   Yes  United Kingdom     15544.0  2011-05-12      10.0       1.65   \n",
              "132563   Yes  United Kingdom     15544.0  2011-05-12      16.0       0.42   \n",
              "132564   Yes  United Kingdom     15544.0  2011-05-12       8.0       1.25   \n",
              "132565   Yes  United Kingdom     15544.0  2011-01-01       NaN        NaN   \n",
              "\n",
              "          Year  Month  Date  Day of Year  \n",
              "0       2010.0   12.0   1.0        335.0  \n",
              "1       2010.0   12.0   1.0        335.0  \n",
              "2       2010.0   12.0   1.0        335.0  \n",
              "3       2010.0   12.0   1.0        335.0  \n",
              "4       2010.0   12.0   1.0        335.0  \n",
              "...        ...    ...   ...          ...  \n",
              "132561  2011.0    5.0  12.0        132.0  \n",
              "132562  2011.0    5.0  12.0        132.0  \n",
              "132563  2011.0    5.0  12.0        132.0  \n",
              "132564  2011.0    5.0  12.0        132.0  \n",
              "132565  2011.0    1.0   1.0          1.0  \n",
              "\n",
              "[132566 rows x 10 columns]"
            ],
            "text/html": [
              "\n",
              "  <div id=\"df-58f49abc-1f1c-42f9-975b-4106482dd3e5\">\n",
              "    <div class=\"colab-df-container\">\n",
              "      <div>\n",
              "<style scoped>\n",
              "    .dataframe tbody tr th:only-of-type {\n",
              "        vertical-align: middle;\n",
              "    }\n",
              "\n",
              "    .dataframe tbody tr th {\n",
              "        vertical-align: top;\n",
              "    }\n",
              "\n",
              "    .dataframe thead th {\n",
              "        text-align: right;\n",
              "    }\n",
              "</style>\n",
              "<table border=\"1\" class=\"dataframe\">\n",
              "  <thead>\n",
              "    <tr style=\"text-align: right;\">\n",
              "      <th></th>\n",
              "      <th>Churn</th>\n",
              "      <th>Country</th>\n",
              "      <th>CustomerID</th>\n",
              "      <th>InvoiceDate</th>\n",
              "      <th>Quantity</th>\n",
              "      <th>UnitPrice</th>\n",
              "      <th>Year</th>\n",
              "      <th>Month</th>\n",
              "      <th>Date</th>\n",
              "      <th>Day of Year</th>\n",
              "    </tr>\n",
              "  </thead>\n",
              "  <tbody>\n",
              "    <tr>\n",
              "      <th>0</th>\n",
              "      <td>No</td>\n",
              "      <td>United Kingdom</td>\n",
              "      <td>13047.0</td>\n",
              "      <td>2010-12-01</td>\n",
              "      <td>6.0</td>\n",
              "      <td>2.55</td>\n",
              "      <td>2010.0</td>\n",
              "      <td>12.0</td>\n",
              "      <td>1.0</td>\n",
              "      <td>335.0</td>\n",
              "    </tr>\n",
              "    <tr>\n",
              "      <th>1</th>\n",
              "      <td>No</td>\n",
              "      <td>United Kingdom</td>\n",
              "      <td>12583.0</td>\n",
              "      <td>2010-12-01</td>\n",
              "      <td>6.0</td>\n",
              "      <td>3.39</td>\n",
              "      <td>2010.0</td>\n",
              "      <td>12.0</td>\n",
              "      <td>1.0</td>\n",
              "      <td>335.0</td>\n",
              "    </tr>\n",
              "    <tr>\n",
              "      <th>2</th>\n",
              "      <td>No</td>\n",
              "      <td>United Kingdom</td>\n",
              "      <td>13748.0</td>\n",
              "      <td>2010-12-01</td>\n",
              "      <td>8.0</td>\n",
              "      <td>2.75</td>\n",
              "      <td>2010.0</td>\n",
              "      <td>12.0</td>\n",
              "      <td>1.0</td>\n",
              "      <td>335.0</td>\n",
              "    </tr>\n",
              "    <tr>\n",
              "      <th>3</th>\n",
              "      <td>No</td>\n",
              "      <td>United Kingdom</td>\n",
              "      <td>15291.0</td>\n",
              "      <td>2010-12-01</td>\n",
              "      <td>6.0</td>\n",
              "      <td>3.39</td>\n",
              "      <td>2010.0</td>\n",
              "      <td>12.0</td>\n",
              "      <td>1.0</td>\n",
              "      <td>335.0</td>\n",
              "    </tr>\n",
              "    <tr>\n",
              "      <th>4</th>\n",
              "      <td>No</td>\n",
              "      <td>United Kingdom</td>\n",
              "      <td>14688.0</td>\n",
              "      <td>2010-12-01</td>\n",
              "      <td>6.0</td>\n",
              "      <td>3.39</td>\n",
              "      <td>2010.0</td>\n",
              "      <td>12.0</td>\n",
              "      <td>1.0</td>\n",
              "      <td>335.0</td>\n",
              "    </tr>\n",
              "    <tr>\n",
              "      <th>...</th>\n",
              "      <td>...</td>\n",
              "      <td>...</td>\n",
              "      <td>...</td>\n",
              "      <td>...</td>\n",
              "      <td>...</td>\n",
              "      <td>...</td>\n",
              "      <td>...</td>\n",
              "      <td>...</td>\n",
              "      <td>...</td>\n",
              "      <td>...</td>\n",
              "    </tr>\n",
              "    <tr>\n",
              "      <th>132561</th>\n",
              "      <td>Yes</td>\n",
              "      <td>United Kingdom</td>\n",
              "      <td>15544.0</td>\n",
              "      <td>2011-05-12</td>\n",
              "      <td>8.0</td>\n",
              "      <td>1.95</td>\n",
              "      <td>2011.0</td>\n",
              "      <td>5.0</td>\n",
              "      <td>12.0</td>\n",
              "      <td>132.0</td>\n",
              "    </tr>\n",
              "    <tr>\n",
              "      <th>132562</th>\n",
              "      <td>Yes</td>\n",
              "      <td>United Kingdom</td>\n",
              "      <td>15544.0</td>\n",
              "      <td>2011-05-12</td>\n",
              "      <td>10.0</td>\n",
              "      <td>1.65</td>\n",
              "      <td>2011.0</td>\n",
              "      <td>5.0</td>\n",
              "      <td>12.0</td>\n",
              "      <td>132.0</td>\n",
              "    </tr>\n",
              "    <tr>\n",
              "      <th>132563</th>\n",
              "      <td>Yes</td>\n",
              "      <td>United Kingdom</td>\n",
              "      <td>15544.0</td>\n",
              "      <td>2011-05-12</td>\n",
              "      <td>16.0</td>\n",
              "      <td>0.42</td>\n",
              "      <td>2011.0</td>\n",
              "      <td>5.0</td>\n",
              "      <td>12.0</td>\n",
              "      <td>132.0</td>\n",
              "    </tr>\n",
              "    <tr>\n",
              "      <th>132564</th>\n",
              "      <td>Yes</td>\n",
              "      <td>United Kingdom</td>\n",
              "      <td>15544.0</td>\n",
              "      <td>2011-05-12</td>\n",
              "      <td>8.0</td>\n",
              "      <td>1.25</td>\n",
              "      <td>2011.0</td>\n",
              "      <td>5.0</td>\n",
              "      <td>12.0</td>\n",
              "      <td>132.0</td>\n",
              "    </tr>\n",
              "    <tr>\n",
              "      <th>132565</th>\n",
              "      <td>Yes</td>\n",
              "      <td>United Kingdom</td>\n",
              "      <td>15544.0</td>\n",
              "      <td>2011-01-01</td>\n",
              "      <td>NaN</td>\n",
              "      <td>NaN</td>\n",
              "      <td>2011.0</td>\n",
              "      <td>1.0</td>\n",
              "      <td>1.0</td>\n",
              "      <td>1.0</td>\n",
              "    </tr>\n",
              "  </tbody>\n",
              "</table>\n",
              "<p>132566 rows × 10 columns</p>\n",
              "</div>\n",
              "      <button class=\"colab-df-convert\" onclick=\"convertToInteractive('df-58f49abc-1f1c-42f9-975b-4106482dd3e5')\"\n",
              "              title=\"Convert this dataframe to an interactive table.\"\n",
              "              style=\"display:none;\">\n",
              "        \n",
              "  <svg xmlns=\"http://www.w3.org/2000/svg\" height=\"24px\"viewBox=\"0 0 24 24\"\n",
              "       width=\"24px\">\n",
              "    <path d=\"M0 0h24v24H0V0z\" fill=\"none\"/>\n",
              "    <path d=\"M18.56 5.44l.94 2.06.94-2.06 2.06-.94-2.06-.94-.94-2.06-.94 2.06-2.06.94zm-11 1L8.5 8.5l.94-2.06 2.06-.94-2.06-.94L8.5 2.5l-.94 2.06-2.06.94zm10 10l.94 2.06.94-2.06 2.06-.94-2.06-.94-.94-2.06-.94 2.06-2.06.94z\"/><path d=\"M17.41 7.96l-1.37-1.37c-.4-.4-.92-.59-1.43-.59-.52 0-1.04.2-1.43.59L10.3 9.45l-7.72 7.72c-.78.78-.78 2.05 0 2.83L4 21.41c.39.39.9.59 1.41.59.51 0 1.02-.2 1.41-.59l7.78-7.78 2.81-2.81c.8-.78.8-2.07 0-2.86zM5.41 20L4 18.59l7.72-7.72 1.47 1.35L5.41 20z\"/>\n",
              "  </svg>\n",
              "      </button>\n",
              "      \n",
              "  <style>\n",
              "    .colab-df-container {\n",
              "      display:flex;\n",
              "      flex-wrap:wrap;\n",
              "      gap: 12px;\n",
              "    }\n",
              "\n",
              "    .colab-df-convert {\n",
              "      background-color: #E8F0FE;\n",
              "      border: none;\n",
              "      border-radius: 50%;\n",
              "      cursor: pointer;\n",
              "      display: none;\n",
              "      fill: #1967D2;\n",
              "      height: 32px;\n",
              "      padding: 0 0 0 0;\n",
              "      width: 32px;\n",
              "    }\n",
              "\n",
              "    .colab-df-convert:hover {\n",
              "      background-color: #E2EBFA;\n",
              "      box-shadow: 0px 1px 2px rgba(60, 64, 67, 0.3), 0px 1px 3px 1px rgba(60, 64, 67, 0.15);\n",
              "      fill: #174EA6;\n",
              "    }\n",
              "\n",
              "    [theme=dark] .colab-df-convert {\n",
              "      background-color: #3B4455;\n",
              "      fill: #D2E3FC;\n",
              "    }\n",
              "\n",
              "    [theme=dark] .colab-df-convert:hover {\n",
              "      background-color: #434B5C;\n",
              "      box-shadow: 0px 1px 3px 1px rgba(0, 0, 0, 0.15);\n",
              "      filter: drop-shadow(0px 1px 2px rgba(0, 0, 0, 0.3));\n",
              "      fill: #FFFFFF;\n",
              "    }\n",
              "  </style>\n",
              "\n",
              "      <script>\n",
              "        const buttonEl =\n",
              "          document.querySelector('#df-58f49abc-1f1c-42f9-975b-4106482dd3e5 button.colab-df-convert');\n",
              "        buttonEl.style.display =\n",
              "          google.colab.kernel.accessAllowed ? 'block' : 'none';\n",
              "\n",
              "        async function convertToInteractive(key) {\n",
              "          const element = document.querySelector('#df-58f49abc-1f1c-42f9-975b-4106482dd3e5');\n",
              "          const dataTable =\n",
              "            await google.colab.kernel.invokeFunction('convertToInteractive',\n",
              "                                                     [key], {});\n",
              "          if (!dataTable) return;\n",
              "\n",
              "          const docLinkHtml = 'Like what you see? Visit the ' +\n",
              "            '<a target=\"_blank\" href=https://colab.research.google.com/notebooks/data_table.ipynb>data table notebook</a>'\n",
              "            + ' to learn more about interactive tables.';\n",
              "          element.innerHTML = '';\n",
              "          dataTable['output_type'] = 'display_data';\n",
              "          await google.colab.output.renderOutput(dataTable, element);\n",
              "          const docLink = document.createElement('div');\n",
              "          docLink.innerHTML = docLinkHtml;\n",
              "          element.appendChild(docLink);\n",
              "        }\n",
              "      </script>\n",
              "    </div>\n",
              "  </div>\n",
              "  "
            ]
          },
          "metadata": {},
          "execution_count": 138
        }
      ],
      "source": [
        "df"
      ],
      "id": "c73ac6e4"
    },
    {
      "cell_type": "code",
      "execution_count": 140,
      "metadata": {
        "colab": {
          "base_uri": "https://localhost:8080/"
        },
        "id": "c7bb5c21",
        "outputId": "4fc5859d-a2a8-4138-8c65-5d5667fafa45"
      },
      "outputs": [
        {
          "output_type": "execute_result",
          "data": {
            "text/plain": [
              "Yes    130582\n",
              "No       1984\n",
              "Name: Churn, dtype: int64"
            ]
          },
          "metadata": {},
          "execution_count": 140
        }
      ],
      "source": [
        "df[\"Churn\"].value_counts()"
      ],
      "id": "c7bb5c21"
    },
    {
      "cell_type": "code",
      "execution_count": 141,
      "metadata": {
        "id": "ffc4c6e8"
      },
      "outputs": [],
      "source": [
        "df.drop(\"InvoiceDate\", axis = 1, inplace = True)"
      ],
      "id": "ffc4c6e8"
    },
    {
      "cell_type": "code",
      "execution_count": 142,
      "metadata": {
        "id": "31300a0b"
      },
      "outputs": [],
      "source": [
        "df.drop(\"CustomerID\", axis = 1, inplace = True)"
      ],
      "id": "31300a0b"
    },
    {
      "cell_type": "code",
      "execution_count": 144,
      "metadata": {
        "id": "5da56b47"
      },
      "outputs": [],
      "source": [
        "df['Churn']=df['Churn'].map({'No':0,'Yes':1})"
      ],
      "id": "5da56b47"
    },
    {
      "cell_type": "code",
      "execution_count": 145,
      "metadata": {
        "colab": {
          "base_uri": "https://localhost:8080/"
        },
        "id": "35069440",
        "outputId": "12d83703-ae10-4802-bd16-4b79c3c1252b"
      },
      "outputs": [
        {
          "output_type": "execute_result",
          "data": {
            "text/plain": [
              "35"
            ]
          },
          "metadata": {},
          "execution_count": 145
        }
      ],
      "source": [
        "df['Country'].nunique()"
      ],
      "id": "35069440"
    },
    {
      "cell_type": "code",
      "source": [
        "df2= df.copy()"
      ],
      "metadata": {
        "id": "4k-QF5f5F3Ef"
      },
      "id": "4k-QF5f5F3Ef",
      "execution_count": 153,
      "outputs": []
    },
    {
      "cell_type": "markdown",
      "metadata": {
        "id": "2813e938"
      },
      "source": [
        "#### One hot encoding"
      ],
      "id": "2813e938"
    },
    {
      "cell_type": "code",
      "execution_count": 24,
      "metadata": {
        "id": "6c144853"
      },
      "outputs": [],
      "source": [
        "df=pd.get_dummies(df,drop_first=True)"
      ],
      "id": "6c144853"
    },
    {
      "cell_type": "code",
      "execution_count": 25,
      "metadata": {
        "colab": {
          "base_uri": "https://localhost:8080/",
          "height": 334
        },
        "id": "0ce8e19b",
        "outputId": "8732e241-1461-41a0-9353-8f09c54cf2e0",
        "scrolled": true
      },
      "outputs": [
        {
          "output_type": "execute_result",
          "data": {
            "text/plain": [
              "   Churn  Quantity  UnitPrice  Year  Month  Date  Day of Year  \\\n",
              "0      0       6.0       2.55  2010     12     1          335   \n",
              "1      0       6.0       3.39  2010     12     1          335   \n",
              "2      0       8.0       2.75  2010     12     1          335   \n",
              "3      0       6.0       3.39  2010     12     1          335   \n",
              "4      0       6.0       3.39  2010     12     1          335   \n",
              "\n",
              "   Country_Austria  Country_Bahrain  Country_Belgium  ...  Country_Portugal  \\\n",
              "0                0                0                0  ...                 0   \n",
              "1                0                0                0  ...                 0   \n",
              "2                0                0                0  ...                 0   \n",
              "3                0                0                0  ...                 0   \n",
              "4                0                0                0  ...                 0   \n",
              "\n",
              "   Country_Saudi Arabia  Country_Singapore  Country_Spain  Country_Sweden  \\\n",
              "0                     0                  0              0               0   \n",
              "1                     0                  0              0               0   \n",
              "2                     0                  0              0               0   \n",
              "3                     0                  0              0               0   \n",
              "4                     0                  0              0               0   \n",
              "\n",
              "   Country_Switzerland  Country_USA  Country_United Arab Emirates  \\\n",
              "0                    0            0                             0   \n",
              "1                    0            0                             0   \n",
              "2                    0            0                             0   \n",
              "3                    0            0                             0   \n",
              "4                    0            0                             0   \n",
              "\n",
              "   Country_United Kingdom  Country_Unspecified  \n",
              "0                       1                    0  \n",
              "1                       1                    0  \n",
              "2                       1                    0  \n",
              "3                       1                    0  \n",
              "4                       1                    0  \n",
              "\n",
              "[5 rows x 41 columns]"
            ],
            "text/html": [
              "\n",
              "  <div id=\"df-0b16193f-9cb9-481c-b0ce-028ae1577247\">\n",
              "    <div class=\"colab-df-container\">\n",
              "      <div>\n",
              "<style scoped>\n",
              "    .dataframe tbody tr th:only-of-type {\n",
              "        vertical-align: middle;\n",
              "    }\n",
              "\n",
              "    .dataframe tbody tr th {\n",
              "        vertical-align: top;\n",
              "    }\n",
              "\n",
              "    .dataframe thead th {\n",
              "        text-align: right;\n",
              "    }\n",
              "</style>\n",
              "<table border=\"1\" class=\"dataframe\">\n",
              "  <thead>\n",
              "    <tr style=\"text-align: right;\">\n",
              "      <th></th>\n",
              "      <th>Churn</th>\n",
              "      <th>Quantity</th>\n",
              "      <th>UnitPrice</th>\n",
              "      <th>Year</th>\n",
              "      <th>Month</th>\n",
              "      <th>Date</th>\n",
              "      <th>Day of Year</th>\n",
              "      <th>Country_Austria</th>\n",
              "      <th>Country_Bahrain</th>\n",
              "      <th>Country_Belgium</th>\n",
              "      <th>...</th>\n",
              "      <th>Country_Portugal</th>\n",
              "      <th>Country_Saudi Arabia</th>\n",
              "      <th>Country_Singapore</th>\n",
              "      <th>Country_Spain</th>\n",
              "      <th>Country_Sweden</th>\n",
              "      <th>Country_Switzerland</th>\n",
              "      <th>Country_USA</th>\n",
              "      <th>Country_United Arab Emirates</th>\n",
              "      <th>Country_United Kingdom</th>\n",
              "      <th>Country_Unspecified</th>\n",
              "    </tr>\n",
              "  </thead>\n",
              "  <tbody>\n",
              "    <tr>\n",
              "      <th>0</th>\n",
              "      <td>0</td>\n",
              "      <td>6.0</td>\n",
              "      <td>2.55</td>\n",
              "      <td>2010</td>\n",
              "      <td>12</td>\n",
              "      <td>1</td>\n",
              "      <td>335</td>\n",
              "      <td>0</td>\n",
              "      <td>0</td>\n",
              "      <td>0</td>\n",
              "      <td>...</td>\n",
              "      <td>0</td>\n",
              "      <td>0</td>\n",
              "      <td>0</td>\n",
              "      <td>0</td>\n",
              "      <td>0</td>\n",
              "      <td>0</td>\n",
              "      <td>0</td>\n",
              "      <td>0</td>\n",
              "      <td>1</td>\n",
              "      <td>0</td>\n",
              "    </tr>\n",
              "    <tr>\n",
              "      <th>1</th>\n",
              "      <td>0</td>\n",
              "      <td>6.0</td>\n",
              "      <td>3.39</td>\n",
              "      <td>2010</td>\n",
              "      <td>12</td>\n",
              "      <td>1</td>\n",
              "      <td>335</td>\n",
              "      <td>0</td>\n",
              "      <td>0</td>\n",
              "      <td>0</td>\n",
              "      <td>...</td>\n",
              "      <td>0</td>\n",
              "      <td>0</td>\n",
              "      <td>0</td>\n",
              "      <td>0</td>\n",
              "      <td>0</td>\n",
              "      <td>0</td>\n",
              "      <td>0</td>\n",
              "      <td>0</td>\n",
              "      <td>1</td>\n",
              "      <td>0</td>\n",
              "    </tr>\n",
              "    <tr>\n",
              "      <th>2</th>\n",
              "      <td>0</td>\n",
              "      <td>8.0</td>\n",
              "      <td>2.75</td>\n",
              "      <td>2010</td>\n",
              "      <td>12</td>\n",
              "      <td>1</td>\n",
              "      <td>335</td>\n",
              "      <td>0</td>\n",
              "      <td>0</td>\n",
              "      <td>0</td>\n",
              "      <td>...</td>\n",
              "      <td>0</td>\n",
              "      <td>0</td>\n",
              "      <td>0</td>\n",
              "      <td>0</td>\n",
              "      <td>0</td>\n",
              "      <td>0</td>\n",
              "      <td>0</td>\n",
              "      <td>0</td>\n",
              "      <td>1</td>\n",
              "      <td>0</td>\n",
              "    </tr>\n",
              "    <tr>\n",
              "      <th>3</th>\n",
              "      <td>0</td>\n",
              "      <td>6.0</td>\n",
              "      <td>3.39</td>\n",
              "      <td>2010</td>\n",
              "      <td>12</td>\n",
              "      <td>1</td>\n",
              "      <td>335</td>\n",
              "      <td>0</td>\n",
              "      <td>0</td>\n",
              "      <td>0</td>\n",
              "      <td>...</td>\n",
              "      <td>0</td>\n",
              "      <td>0</td>\n",
              "      <td>0</td>\n",
              "      <td>0</td>\n",
              "      <td>0</td>\n",
              "      <td>0</td>\n",
              "      <td>0</td>\n",
              "      <td>0</td>\n",
              "      <td>1</td>\n",
              "      <td>0</td>\n",
              "    </tr>\n",
              "    <tr>\n",
              "      <th>4</th>\n",
              "      <td>0</td>\n",
              "      <td>6.0</td>\n",
              "      <td>3.39</td>\n",
              "      <td>2010</td>\n",
              "      <td>12</td>\n",
              "      <td>1</td>\n",
              "      <td>335</td>\n",
              "      <td>0</td>\n",
              "      <td>0</td>\n",
              "      <td>0</td>\n",
              "      <td>...</td>\n",
              "      <td>0</td>\n",
              "      <td>0</td>\n",
              "      <td>0</td>\n",
              "      <td>0</td>\n",
              "      <td>0</td>\n",
              "      <td>0</td>\n",
              "      <td>0</td>\n",
              "      <td>0</td>\n",
              "      <td>1</td>\n",
              "      <td>0</td>\n",
              "    </tr>\n",
              "  </tbody>\n",
              "</table>\n",
              "<p>5 rows × 41 columns</p>\n",
              "</div>\n",
              "      <button class=\"colab-df-convert\" onclick=\"convertToInteractive('df-0b16193f-9cb9-481c-b0ce-028ae1577247')\"\n",
              "              title=\"Convert this dataframe to an interactive table.\"\n",
              "              style=\"display:none;\">\n",
              "        \n",
              "  <svg xmlns=\"http://www.w3.org/2000/svg\" height=\"24px\"viewBox=\"0 0 24 24\"\n",
              "       width=\"24px\">\n",
              "    <path d=\"M0 0h24v24H0V0z\" fill=\"none\"/>\n",
              "    <path d=\"M18.56 5.44l.94 2.06.94-2.06 2.06-.94-2.06-.94-.94-2.06-.94 2.06-2.06.94zm-11 1L8.5 8.5l.94-2.06 2.06-.94-2.06-.94L8.5 2.5l-.94 2.06-2.06.94zm10 10l.94 2.06.94-2.06 2.06-.94-2.06-.94-.94-2.06-.94 2.06-2.06.94z\"/><path d=\"M17.41 7.96l-1.37-1.37c-.4-.4-.92-.59-1.43-.59-.52 0-1.04.2-1.43.59L10.3 9.45l-7.72 7.72c-.78.78-.78 2.05 0 2.83L4 21.41c.39.39.9.59 1.41.59.51 0 1.02-.2 1.41-.59l7.78-7.78 2.81-2.81c.8-.78.8-2.07 0-2.86zM5.41 20L4 18.59l7.72-7.72 1.47 1.35L5.41 20z\"/>\n",
              "  </svg>\n",
              "      </button>\n",
              "      \n",
              "  <style>\n",
              "    .colab-df-container {\n",
              "      display:flex;\n",
              "      flex-wrap:wrap;\n",
              "      gap: 12px;\n",
              "    }\n",
              "\n",
              "    .colab-df-convert {\n",
              "      background-color: #E8F0FE;\n",
              "      border: none;\n",
              "      border-radius: 50%;\n",
              "      cursor: pointer;\n",
              "      display: none;\n",
              "      fill: #1967D2;\n",
              "      height: 32px;\n",
              "      padding: 0 0 0 0;\n",
              "      width: 32px;\n",
              "    }\n",
              "\n",
              "    .colab-df-convert:hover {\n",
              "      background-color: #E2EBFA;\n",
              "      box-shadow: 0px 1px 2px rgba(60, 64, 67, 0.3), 0px 1px 3px 1px rgba(60, 64, 67, 0.15);\n",
              "      fill: #174EA6;\n",
              "    }\n",
              "\n",
              "    [theme=dark] .colab-df-convert {\n",
              "      background-color: #3B4455;\n",
              "      fill: #D2E3FC;\n",
              "    }\n",
              "\n",
              "    [theme=dark] .colab-df-convert:hover {\n",
              "      background-color: #434B5C;\n",
              "      box-shadow: 0px 1px 3px 1px rgba(0, 0, 0, 0.15);\n",
              "      filter: drop-shadow(0px 1px 2px rgba(0, 0, 0, 0.3));\n",
              "      fill: #FFFFFF;\n",
              "    }\n",
              "  </style>\n",
              "\n",
              "      <script>\n",
              "        const buttonEl =\n",
              "          document.querySelector('#df-0b16193f-9cb9-481c-b0ce-028ae1577247 button.colab-df-convert');\n",
              "        buttonEl.style.display =\n",
              "          google.colab.kernel.accessAllowed ? 'block' : 'none';\n",
              "\n",
              "        async function convertToInteractive(key) {\n",
              "          const element = document.querySelector('#df-0b16193f-9cb9-481c-b0ce-028ae1577247');\n",
              "          const dataTable =\n",
              "            await google.colab.kernel.invokeFunction('convertToInteractive',\n",
              "                                                     [key], {});\n",
              "          if (!dataTable) return;\n",
              "\n",
              "          const docLinkHtml = 'Like what you see? Visit the ' +\n",
              "            '<a target=\"_blank\" href=https://colab.research.google.com/notebooks/data_table.ipynb>data table notebook</a>'\n",
              "            + ' to learn more about interactive tables.';\n",
              "          element.innerHTML = '';\n",
              "          dataTable['output_type'] = 'display_data';\n",
              "          await google.colab.output.renderOutput(dataTable, element);\n",
              "          const docLink = document.createElement('div');\n",
              "          docLink.innerHTML = docLinkHtml;\n",
              "          element.appendChild(docLink);\n",
              "        }\n",
              "      </script>\n",
              "    </div>\n",
              "  </div>\n",
              "  "
            ]
          },
          "metadata": {},
          "execution_count": 25
        }
      ],
      "source": [
        "df.head()"
      ],
      "id": "0ce8e19b"
    },
    {
      "cell_type": "markdown",
      "metadata": {
        "id": "8c140ef3"
      },
      "source": [
        "## Data Visualization"
      ],
      "id": "8c140ef3"
    },
    {
      "cell_type": "code",
      "source": [
        "df2= df.copy()"
      ],
      "metadata": {
        "id": "OcWIEkKeEo9J"
      },
      "id": "OcWIEkKeEo9J",
      "execution_count": 147,
      "outputs": []
    },
    {
      "cell_type": "code",
      "execution_count": 154,
      "metadata": {
        "colab": {
          "base_uri": "https://localhost:8080/",
          "height": 279
        },
        "id": "ccbec757",
        "outputId": "0cc98b11-40ef-4691-a741-da5e63df57f0"
      },
      "outputs": [
        {
          "output_type": "display_data",
          "data": {
            "text/plain": [
              "<Figure size 432x288 with 1 Axes>"
            ],
            "image/png": "[encoded data removed]"
          },
          "metadata": {
            "needs_background": "light"
          }
        }
      ],
      "source": [
        "sns.histplot(x='Month',data=df2)\n",
        "plt.show()"
      ],
      "id": "ccbec757"
    },
    {
      "cell_type": "code",
      "source": [
        "sns.countplot('Month',data=df2,hue='Churn')"
      ],
      "metadata": {
        "colab": {
          "base_uri": "https://localhost:8080/",
          "height": 351
        },
        "id": "uiGLgfh0GZQS",
        "outputId": "e0ab1b3b-2a2f-4b66-b03d-12938fd5c6ad"
      },
      "id": "uiGLgfh0GZQS",
      "execution_count": 157,
      "outputs": [
        {
          "output_type": "stream",
          "name": "stderr",
          "text": [
            "/usr/local/lib/python3.7/dist-packages/seaborn/_decorators.py:43: FutureWarning: Pass the following variable as a keyword arg: x. From version 0.12, the only valid positional argument will be `data`, and passing other arguments without an explicit keyword will result in an error or misinterpretation.\n",
            "  FutureWarning\n"
          ]
        },
        {
          "output_type": "execute_result",
          "data": {
            "text/plain": [
              "<matplotlib.axes._subplots.AxesSubplot at 0x7fd9fc51dc90>"
            ]
          },
          "metadata": {},
          "execution_count": 157
        },
        {
          "output_type": "display_data",
          "data": {
            "text/plain": [
              "<Figure size 432x288 with 1 Axes>"
            ],
            "image/png": "[encoded data removed]"
          },
          "metadata": {
            "needs_background": "light"
          }
        }
      ]
    },
    {
      "cell_type": "code",
      "source": [
        "sns.boxplot(x='Month',y='UnitPrice',data=df2)"
      ],
      "metadata": {
        "colab": {
          "base_uri": "https://localhost:8080/",
          "height": 296
        },
        "id": "08xBYv5FHQkg",
        "outputId": "4bb6b7f8-085d-4fad-d49b-092ddc6e7de5"
      },
      "id": "08xBYv5FHQkg",
      "execution_count": 160,
      "outputs": [
        {
          "output_type": "execute_result",
          "data": {
            "text/plain": [
              "<matplotlib.axes._subplots.AxesSubplot at 0x7fd9fc62c910>"
            ]
          },
          "metadata": {},
          "execution_count": 160
        },
        {
          "output_type": "display_data",
          "data": {
            "text/plain": [
              "<Figure size 432x288 with 1 Axes>"
            ],
            "image/png": "[encoded data removed]"
          },
          "metadata": {
            "needs_background": "light"
          }
        }
      ]
    },
    {
      "cell_type": "code",
      "execution_count": 161,
      "metadata": {
        "id": "25eed1b0",
        "colab": {
          "base_uri": "https://localhost:8080/",
          "height": 1000
        },
        "outputId": "2512f4df-5c19-4134-d598-53279d411fe3"
      },
      "outputs": [
        {
          "output_type": "execute_result",
          "data": {
            "text/plain": [
              "<seaborn.axisgrid.PairGrid at 0x7fd9fc37c310>"
            ]
          },
          "metadata": {},
          "execution_count": 161
        },
        {
          "output_type": "display_data",
          "data": {
            "text/plain": [
              "<Figure size 1122.38x1080 with 42 Axes>"
            ],
            "image/png": "[encoded data removed]"
          },
          "metadata": {
            "needs_background": "light"
          }
        }
      ],
      "source": [
        "sns.pairplot(df,hue='Churn')"
      ],
      "id": "25eed1b0"
    },
    {
      "cell_type": "code",
      "execution_count": 28,
      "metadata": {
        "colab": {
          "base_uri": "https://localhost:8080/",
          "height": 412
        },
        "id": "eba7c319",
        "outputId": "ffc284ef-b808-4788-eac3-272ddf93b278",
        "scrolled": false
      },
      "outputs": [
        {
          "output_type": "display_data",
          "data": {
            "text/plain": [
              "<Figure size 432x288 with 2 Axes>"
            ],
            "image/png": "[encoded data removed]"
          },
          "metadata": {
            "needs_background": "light"
          }
        }
      ],
      "source": [
        "sns.heatmap(df.isnull())\n",
        "plt.show()"
      ],
      "id": "eba7c319"
    },
    {
      "cell_type": "code",
      "execution_count": 29,
      "metadata": {
        "id": "ddbe62e2",
        "scrolled": false,
        "colab": {
          "base_uri": "https://localhost:8080/",
          "height": 411
        },
        "outputId": "2600160d-acf9-41df-fbec-c91401620792"
      },
      "outputs": [
        {
          "output_type": "display_data",
          "data": {
            "text/plain": [
              "<Figure size 432x288 with 2 Axes>"
            ],
            "image/png": "[encoded data removed]"
          },
          "metadata": {
            "needs_background": "light"
          }
        }
      ],
      "source": [
        "sns.heatmap(df.corr(),annot=True)\n",
        "plt.show()"
      ],
      "id": "ddbe62e2"
    },
    {
      "cell_type": "code",
      "execution_count": 30,
      "metadata": {
        "id": "16fe3479",
        "colab": {
          "base_uri": "https://localhost:8080/"
        },
        "outputId": "5df599a0-0857-497f-bb45-ab39dfe70ace"
      },
      "outputs": [
        {
          "output_type": "stream",
          "name": "stdout",
          "text": [
            "Class:0 = 1453\n",
            "Class:1 = 130581\n",
            "Proportion of class 0 is  1.1 %\n"
          ]
        }
      ],
      "source": [
        "Target_count= df.Churn.value_counts()\n",
        "\n",
        "print('Class:0 =',Target_count[0])\n",
        "print('Class:1 =',Target_count[1])\n",
        "print('Proportion of class 0 is ', round(Target_count[0] * 100 / (Target_count[1] + Target_count[0]), 2),'%')"
      ],
      "id": "16fe3479"
    },
    {
      "cell_type": "code",
      "execution_count": 31,
      "metadata": {
        "id": "cd24ea00",
        "colab": {
          "base_uri": "https://localhost:8080/",
          "height": 278
        },
        "outputId": "eee7df65-2e3b-47ed-979b-44eb7cc2c47c"
      },
      "outputs": [
        {
          "output_type": "display_data",
          "data": {
            "text/plain": [
              "<Figure size 432x288 with 1 Axes>"
            ],
            "image/png": "[encoded data removed]"
          },
          "metadata": {
            "needs_background": "light"
          }
        }
      ],
      "source": [
        "Target_count.plot(kind='bar', title='Count (Target)')\n",
        "plt.show()"
      ],
      "id": "cd24ea00"
    },
    {
      "cell_type": "code",
      "execution_count": 32,
      "metadata": {
        "id": "b1160bca"
      },
      "outputs": [],
      "source": [
        "X = df.drop('Churn',axis=1)\n",
        "y = df['Churn']"
      ],
      "id": "b1160bca"
    },
    {
      "cell_type": "code",
      "execution_count": 33,
      "metadata": {
        "id": "93629e50",
        "scrolled": false
      },
      "outputs": [],
      "source": [
        "from imblearn.under_sampling import RandomUnderSampler\n",
        "\n",
        "rus = RandomUnderSampler() #Intialise the model\n",
        "X_rus, y_rus = rus.fit_resample(X, y) #resampling the data "
      ],
      "id": "93629e50"
    },
    {
      "cell_type": "code",
      "execution_count": 34,
      "metadata": {
        "id": "2bd89dff"
      },
      "outputs": [],
      "source": [
        "from imblearn.over_sampling import RandomOverSampler\n",
        "\n",
        "ros = RandomOverSampler() #Initialis the model \n",
        "X_ros, y_ros = ros.fit_resample(X, y) #Fit the model"
      ],
      "id": "2bd89dff"
    },
    {
      "cell_type": "code",
      "execution_count": 35,
      "metadata": {
        "id": "060b900c",
        "colab": {
          "base_uri": "https://localhost:8080/"
        },
        "outputId": "e042e431-97c1-4686-a999-67c8fe2584f5"
      },
      "outputs": [
        {
          "output_type": "execute_result",
          "data": {
            "text/plain": [
              "(132034, 261162, 2906)"
            ]
          },
          "metadata": {},
          "execution_count": 35
        }
      ],
      "source": [
        "len(X),len(X_ros),len(X_rus)"
      ],
      "id": "060b900c"
    },
    {
      "cell_type": "code",
      "execution_count": 36,
      "metadata": {
        "id": "828b360d",
        "colab": {
          "base_uri": "https://localhost:8080/"
        },
        "outputId": "2ce59cb8-bb3e-41dc-9602-a91eee8dabaf"
      },
      "outputs": [
        {
          "output_type": "execute_result",
          "data": {
            "text/plain": [
              "(132034, 261162, 2906)"
            ]
          },
          "metadata": {},
          "execution_count": 36
        }
      ],
      "source": [
        "len(y),len(y_ros),len(y_rus)"
      ],
      "id": "828b360d"
    },
    {
      "cell_type": "code",
      "execution_count": 37,
      "metadata": {
        "id": "3bc071ae",
        "scrolled": true,
        "colab": {
          "base_uri": "https://localhost:8080/"
        },
        "outputId": "e14e8b9a-064b-4253-c5ab-fb24e85a26ed"
      },
      "outputs": [
        {
          "output_type": "stream",
          "name": "stdout",
          "text": [
            "Class:0 = 1453\n",
            "Class:1 = 1453\n"
          ]
        }
      ],
      "source": [
        "Target_count= y_rus.value_counts()\n",
        "\n",
        "print('Class:0 =',Target_count[0])\n",
        "print('Class:1 =',Target_count[1])"
      ],
      "id": "3bc071ae"
    },
    {
      "cell_type": "code",
      "execution_count": 38,
      "metadata": {
        "id": "0700a8f9",
        "scrolled": true,
        "colab": {
          "base_uri": "https://localhost:8080/"
        },
        "outputId": "78faed46-7d9a-4c6a-8ffe-7d787225d191"
      },
      "outputs": [
        {
          "output_type": "stream",
          "name": "stdout",
          "text": [
            "Class:0 = 130581\n",
            "Class:1 = 130581\n"
          ]
        }
      ],
      "source": [
        "Target_count= y_ros.value_counts()\n",
        "\n",
        "print('Class:0 =',Target_count[0])\n",
        "print('Class:1 =',Target_count[1])"
      ],
      "id": "0700a8f9"
    },
    {
      "cell_type": "markdown",
      "metadata": {
        "id": "85239994"
      },
      "source": [
        "## Train and Test Data"
      ],
      "id": "85239994"
    },
    {
      "cell_type": "code",
      "execution_count": 39,
      "metadata": {
        "id": "8c42311d"
      },
      "outputs": [],
      "source": [
        "from sklearn.model_selection import train_test_split\n",
        "X_train, X_test, y_train, y_test = train_test_split(X, y, test_size=0.2, random_state=1)"
      ],
      "id": "8c42311d"
    },
    {
      "cell_type": "code",
      "execution_count": 40,
      "metadata": {
        "id": "33af834c"
      },
      "outputs": [],
      "source": [
        "from sklearn.metrics import accuracy_score"
      ],
      "id": "33af834c"
    },
    {
      "cell_type": "markdown",
      "metadata": {
        "id": "50329123"
      },
      "source": [
        "### Random Forest Classifier"
      ],
      "id": "50329123"
    },
    {
      "cell_type": "markdown",
      "metadata": {
        "id": "89afc920"
      },
      "source": [
        "#### Training Data & Prediction"
      ],
      "id": "89afc920"
    },
    {
      "cell_type": "code",
      "execution_count": 41,
      "metadata": {
        "id": "e9e444e5"
      },
      "outputs": [],
      "source": [
        "from sklearn.ensemble import RandomForestClassifier"
      ],
      "id": "e9e444e5"
    },
    {
      "cell_type": "code",
      "execution_count": 42,
      "metadata": {
        "id": "022b384c"
      },
      "outputs": [],
      "source": [
        "rfc= RandomForestClassifier()"
      ],
      "id": "022b384c"
    },
    {
      "cell_type": "code",
      "execution_count": 43,
      "metadata": {
        "colab": {
          "base_uri": "https://localhost:8080/"
        },
        "id": "afc88d33",
        "outputId": "3bedb1b3-c744-404d-f776-83d374f96824"
      },
      "outputs": [
        {
          "output_type": "execute_result",
          "data": {
            "text/plain": [
              "RandomForestClassifier()"
            ]
          },
          "metadata": {},
          "execution_count": 43
        }
      ],
      "source": [
        "rfc.fit(X_train,y_train)"
      ],
      "id": "afc88d33"
    },
    {
      "cell_type": "code",
      "execution_count": 44,
      "metadata": {
        "colab": {
          "base_uri": "https://localhost:8080/"
        },
        "id": "ea2a317d",
        "outputId": "0cb0ff84-1440-4c18-a54b-47560e238b0e"
      },
      "outputs": [
        {
          "output_type": "execute_result",
          "data": {
            "text/plain": [
              "array([5.05884694e-02, 6.21051536e-02, 6.02058326e-02, 4.77062653e-02,\n",
              "       4.05562212e-01, 3.58686902e-01, 1.96860297e-05, 0.00000000e+00,\n",
              "       6.35463635e-05, 0.00000000e+00, 0.00000000e+00, 1.07231576e-06,\n",
              "       2.43015265e-05, 7.37127411e-06, 2.03267935e-06, 4.59342508e-04,\n",
              "       0.00000000e+00, 4.07552777e-04, 5.46142221e-04, 6.12103869e-04,\n",
              "       0.00000000e+00, 2.45491826e-06, 2.87679265e-07, 7.42070725e-06,\n",
              "       1.24840576e-05, 0.00000000e+00, 2.44406708e-06, 1.31912969e-04,\n",
              "       8.78604108e-03, 1.51450849e-07, 3.33818988e-05, 0.00000000e+00,\n",
              "       9.30501124e-08, 3.49007899e-05, 2.06593668e-05, 1.20555074e-05,\n",
              "       0.00000000e+00, 0.00000000e+00, 3.95772593e-03, 0.00000000e+00])"
            ]
          },
          "metadata": {},
          "execution_count": 44
        }
      ],
      "source": [
        "rfc.feature_importances_"
      ],
      "id": "ea2a317d"
    },
    {
      "cell_type": "code",
      "execution_count": 45,
      "metadata": {
        "id": "9f525c2f"
      },
      "outputs": [],
      "source": [
        "a=df.columns"
      ],
      "id": "9f525c2f"
    },
    {
      "cell_type": "code",
      "execution_count": 46,
      "metadata": {
        "id": "8032ba23"
      },
      "outputs": [],
      "source": [
        "P1=rfc.predict(X_test)"
      ],
      "id": "8032ba23"
    },
    {
      "cell_type": "code",
      "execution_count": 47,
      "metadata": {
        "id": "c3124a4e"
      },
      "outputs": [],
      "source": [
        "from sklearn.metrics import classification_report,confusion_matrix,accuracy_score"
      ],
      "id": "c3124a4e"
    },
    {
      "cell_type": "code",
      "execution_count": 48,
      "metadata": {
        "colab": {
          "base_uri": "https://localhost:8080/"
        },
        "id": "369b7585",
        "outputId": "01b3e6dc-456d-41dc-8b91-44c5c7c9d003"
      },
      "outputs": [
        {
          "output_type": "stream",
          "name": "stdout",
          "text": [
            "              precision    recall  f1-score   support\n",
            "\n",
            "           0       0.75      0.89      0.81       300\n",
            "           1       1.00      1.00      1.00     26107\n",
            "\n",
            "    accuracy                           1.00     26407\n",
            "   macro avg       0.88      0.94      0.91     26407\n",
            "weighted avg       1.00      1.00      1.00     26407\n",
            "\n",
            "\n",
            "\n",
            "[[  266    34]\n",
            " [   88 26019]]\n",
            "\n",
            "\n",
            "0.9953800128753739\n"
          ]
        }
      ],
      "source": [
        "print(classification_report(y_test,P1))\n",
        "print('\\n')\n",
        "print(confusion_matrix(y_test, P1))\n",
        "print('\\n')\n",
        "print(accuracy_score(y_test, P1))"
      ],
      "id": "369b7585"
    },
    {
      "cell_type": "markdown",
      "metadata": {
        "id": "14573fa0"
      },
      "source": [
        "#### Predictions and Evaluations From Top feature"
      ],
      "id": "14573fa0"
    },
    {
      "cell_type": "code",
      "execution_count": 49,
      "metadata": {
        "id": "3c327eeb"
      },
      "outputs": [],
      "source": [
        "from sklearn.feature_selection import RFE"
      ],
      "id": "3c327eeb"
    },
    {
      "cell_type": "code",
      "execution_count": 50,
      "metadata": {
        "id": "f858a1fa"
      },
      "outputs": [],
      "source": [
        "M1=RFE(rfc,n_features_to_select=4)"
      ],
      "id": "f858a1fa"
    },
    {
      "cell_type": "code",
      "execution_count": 51,
      "metadata": {
        "colab": {
          "base_uri": "https://localhost:8080/"
        },
        "id": "7250049f",
        "outputId": "c19e6512-9fae-4b3d-dac1-afb328fe5577"
      },
      "outputs": [
        {
          "output_type": "execute_result",
          "data": {
            "text/plain": [
              "RFE(estimator=RandomForestClassifier(), n_features_to_select=4)"
            ]
          },
          "metadata": {},
          "execution_count": 51
        }
      ],
      "source": [
        "M1.fit(X_train,y_train)"
      ],
      "id": "7250049f"
    },
    {
      "cell_type": "code",
      "execution_count": 52,
      "metadata": {
        "id": "f8cc0f67"
      },
      "outputs": [],
      "source": [
        "prediction=M1.predict(X_test)"
      ],
      "id": "f8cc0f67"
    },
    {
      "cell_type": "code",
      "execution_count": 53,
      "metadata": {
        "id": "2943503d"
      },
      "outputs": [],
      "source": [
        "from sklearn.metrics import classification_report,confusion_matrix,accuracy_score"
      ],
      "id": "2943503d"
    },
    {
      "cell_type": "code",
      "execution_count": 54,
      "metadata": {
        "colab": {
          "base_uri": "https://localhost:8080/"
        },
        "id": "20e38540",
        "outputId": "093d9620-4607-47f1-d974-844c0380560d"
      },
      "outputs": [
        {
          "output_type": "stream",
          "name": "stdout",
          "text": [
            "              precision    recall  f1-score   support\n",
            "\n",
            "           0       0.73      1.00      0.84       300\n",
            "           1       1.00      1.00      1.00     26107\n",
            "\n",
            "    accuracy                           1.00     26407\n",
            "   macro avg       0.86      1.00      0.92     26407\n",
            "weighted avg       1.00      1.00      1.00     26407\n",
            "\n"
          ]
        }
      ],
      "source": [
        "print(classification_report(y_test,prediction))"
      ],
      "id": "20e38540"
    },
    {
      "cell_type": "code",
      "execution_count": 55,
      "metadata": {
        "colab": {
          "base_uri": "https://localhost:8080/"
        },
        "id": "44acd34f",
        "outputId": "40b076df-563c-405d-d8df-023c2ca75d41"
      },
      "outputs": [
        {
          "output_type": "execute_result",
          "data": {
            "text/plain": [
              "array([[  300,     0],\n",
              "       [  112, 25995]])"
            ]
          },
          "metadata": {},
          "execution_count": 55
        }
      ],
      "source": [
        "confusion_matrix(y_test, prediction)"
      ],
      "id": "44acd34f"
    },
    {
      "cell_type": "code",
      "execution_count": 56,
      "metadata": {
        "colab": {
          "base_uri": "https://localhost:8080/"
        },
        "id": "fdf0abd3",
        "outputId": "60cfb91d-0490-4e8b-af8a-4718ac00ae3e"
      },
      "outputs": [
        {
          "output_type": "execute_result",
          "data": {
            "text/plain": [
              "0.9957587003446056"
            ]
          },
          "metadata": {},
          "execution_count": 56
        }
      ],
      "source": [
        "accuracy_score(y_test, prediction)"
      ],
      "id": "fdf0abd3"
    },
    {
      "cell_type": "markdown",
      "metadata": {
        "id": "e1bd8aa6"
      },
      "source": [
        "#### Next Model Using Feature No different"
      ],
      "id": "e1bd8aa6"
    },
    {
      "cell_type": "code",
      "execution_count": 57,
      "metadata": {
        "id": "4b4c51d7"
      },
      "outputs": [],
      "source": [
        "M2=RFE(rfc,n_features_to_select=5)"
      ],
      "id": "4b4c51d7"
    },
    {
      "cell_type": "code",
      "execution_count": 58,
      "metadata": {
        "colab": {
          "base_uri": "https://localhost:8080/"
        },
        "id": "ee08a33b",
        "outputId": "5f0370c3-7060-47e1-e2d0-cd69e81545c9"
      },
      "outputs": [
        {
          "output_type": "execute_result",
          "data": {
            "text/plain": [
              "RFE(estimator=RandomForestClassifier(), n_features_to_select=5)"
            ]
          },
          "metadata": {},
          "execution_count": 58
        }
      ],
      "source": [
        "M2.fit(X_train,y_train)"
      ],
      "id": "ee08a33b"
    },
    {
      "cell_type": "code",
      "execution_count": 59,
      "metadata": {
        "id": "8ed23a73"
      },
      "outputs": [],
      "source": [
        "P2=M2.predict(X_test)"
      ],
      "id": "8ed23a73"
    },
    {
      "cell_type": "code",
      "execution_count": 60,
      "metadata": {
        "colab": {
          "base_uri": "https://localhost:8080/"
        },
        "id": "f9752925",
        "outputId": "979d741e-5d50-41b4-f185-4b1790881f46"
      },
      "outputs": [
        {
          "output_type": "stream",
          "name": "stdout",
          "text": [
            "              precision    recall  f1-score   support\n",
            "\n",
            "           0       0.73      0.99      0.84       300\n",
            "           1       1.00      1.00      1.00     26107\n",
            "\n",
            "    accuracy                           1.00     26407\n",
            "   macro avg       0.87      0.99      0.92     26407\n",
            "weighted avg       1.00      1.00      1.00     26407\n",
            "\n",
            "\n",
            "\n",
            "[[  296     4]\n",
            " [  109 25998]]\n",
            "\n",
            "\n",
            "0.9957208315976824\n"
          ]
        }
      ],
      "source": [
        "print(classification_report(y_test,P2))\n",
        "print('\\n')\n",
        "print(confusion_matrix(y_test, P2))\n",
        "print('\\n')\n",
        "print(accuracy_score(y_test, P2))"
      ],
      "id": "f9752925"
    },
    {
      "cell_type": "markdown",
      "metadata": {
        "id": "1b8fe64f"
      },
      "source": [
        "## Decision Tree"
      ],
      "id": "1b8fe64f"
    },
    {
      "cell_type": "code",
      "execution_count": 61,
      "metadata": {
        "id": "0caae0a7"
      },
      "outputs": [],
      "source": [
        "from sklearn.tree import DecisionTreeClassifier"
      ],
      "id": "0caae0a7"
    },
    {
      "cell_type": "code",
      "execution_count": 62,
      "metadata": {
        "id": "b6cf3768"
      },
      "outputs": [],
      "source": [
        "tr = DecisionTreeClassifier()"
      ],
      "id": "b6cf3768"
    },
    {
      "cell_type": "code",
      "execution_count": 63,
      "metadata": {
        "colab": {
          "base_uri": "https://localhost:8080/"
        },
        "id": "721913da",
        "outputId": "62865f1c-ba60-457d-e4bc-cba1d67fe23b"
      },
      "outputs": [
        {
          "output_type": "execute_result",
          "data": {
            "text/plain": [
              "DecisionTreeClassifier()"
            ]
          },
          "metadata": {},
          "execution_count": 63
        }
      ],
      "source": [
        "tr.fit(X_train,y_train)"
      ],
      "id": "721913da"
    },
    {
      "cell_type": "code",
      "execution_count": 64,
      "metadata": {
        "id": "61025fd6"
      },
      "outputs": [],
      "source": [
        "Pre1=tr.predict(X_test)"
      ],
      "id": "61025fd6"
    },
    {
      "cell_type": "code",
      "execution_count": 65,
      "metadata": {
        "colab": {
          "base_uri": "https://localhost:8080/"
        },
        "id": "8de3db80",
        "outputId": "0adf4304-57cb-498b-d925-5a1051509c6c"
      },
      "outputs": [
        {
          "output_type": "stream",
          "name": "stdout",
          "text": [
            "              precision    recall  f1-score   support\n",
            "\n",
            "           0       0.75      0.88      0.81       300\n",
            "           1       1.00      1.00      1.00     26107\n",
            "\n",
            "    accuracy                           1.00     26407\n",
            "   macro avg       0.87      0.94      0.90     26407\n",
            "weighted avg       1.00      1.00      1.00     26407\n",
            "\n",
            "\n",
            "\n",
            "[[  263    37]\n",
            " [   90 26017]]\n",
            "\n",
            "\n",
            "0.9951906691407582\n"
          ]
        }
      ],
      "source": [
        "print(classification_report(y_test,Pre1))\n",
        "print('\\n')\n",
        "print(confusion_matrix(y_test, Pre1))\n",
        "print('\\n')\n",
        "print(accuracy_score(y_test, Pre1))"
      ],
      "id": "8de3db80"
    },
    {
      "cell_type": "code",
      "execution_count": 66,
      "metadata": {
        "id": "7bef5f9a"
      },
      "outputs": [],
      "source": [
        "M3 = RFE(tr,n_features_to_select=6)"
      ],
      "id": "7bef5f9a"
    },
    {
      "cell_type": "code",
      "execution_count": 67,
      "metadata": {
        "colab": {
          "base_uri": "https://localhost:8080/"
        },
        "id": "e697453c",
        "outputId": "6432da19-ffe5-4fbd-fba3-817cb4f171ed"
      },
      "outputs": [
        {
          "output_type": "execute_result",
          "data": {
            "text/plain": [
              "RFE(estimator=DecisionTreeClassifier(), n_features_to_select=6)"
            ]
          },
          "metadata": {},
          "execution_count": 67
        }
      ],
      "source": [
        "M3.fit(X_train,y_train)"
      ],
      "id": "e697453c"
    },
    {
      "cell_type": "code",
      "execution_count": 68,
      "metadata": {
        "id": "7d078a98"
      },
      "outputs": [],
      "source": [
        "Pre2=M3.predict(X_test)"
      ],
      "id": "7d078a98"
    },
    {
      "cell_type": "code",
      "execution_count": 69,
      "metadata": {
        "colab": {
          "base_uri": "https://localhost:8080/"
        },
        "id": "1f5dd74a",
        "outputId": "95880b56-2492-4e62-a211-41c3be7131d0"
      },
      "outputs": [
        {
          "output_type": "stream",
          "name": "stdout",
          "text": [
            "              precision    recall  f1-score   support\n",
            "\n",
            "           0       0.75      0.88      0.81       300\n",
            "           1       1.00      1.00      1.00     26107\n",
            "\n",
            "    accuracy                           1.00     26407\n",
            "   macro avg       0.87      0.94      0.90     26407\n",
            "weighted avg       1.00      1.00      1.00     26407\n",
            "\n",
            "\n",
            "\n",
            "[[  264    36]\n",
            " [   90 26017]]\n",
            "\n",
            "\n",
            "0.9952285378876813\n"
          ]
        }
      ],
      "source": [
        "print(classification_report(y_test,Pre2))\n",
        "print('\\n')\n",
        "print(confusion_matrix(y_test, Pre2))\n",
        "print('\\n')\n",
        "print(accuracy_score(y_test, Pre2))"
      ],
      "id": "1f5dd74a"
    },
    {
      "cell_type": "code",
      "execution_count": 70,
      "metadata": {
        "colab": {
          "base_uri": "https://localhost:8080/",
          "height": 248
        },
        "id": "a8fc6e18",
        "outputId": "b526d622-690d-4e2e-d91b-70d25daa39ff"
      },
      "outputs": [
        {
          "output_type": "display_data",
          "data": {
            "text/plain": [
              "<Figure size 432x288 with 1 Axes>"
            ],
            "image/png": "[encoded data removed]"
          },
          "metadata": {
            "needs_background": "light"
          }
        }
      ],
      "source": [
        "from sklearn import tree\n",
        "\n",
        "tree.plot_tree(tr)\n",
        "\n",
        "plt.show()"
      ],
      "id": "a8fc6e18"
    },
    {
      "cell_type": "markdown",
      "metadata": {
        "id": "ea311c44"
      },
      "source": [
        "## SVM"
      ],
      "id": "ea311c44"
    },
    {
      "cell_type": "code",
      "execution_count": 71,
      "metadata": {
        "id": "89075386"
      },
      "outputs": [],
      "source": [
        "from sklearn.svm import SVC"
      ],
      "id": "89075386"
    },
    {
      "cell_type": "code",
      "execution_count": 72,
      "metadata": {
        "id": "b091a4a4"
      },
      "outputs": [],
      "source": [
        "vm = SVC()"
      ],
      "id": "b091a4a4"
    },
    {
      "cell_type": "code",
      "execution_count": 73,
      "metadata": {
        "colab": {
          "base_uri": "https://localhost:8080/"
        },
        "id": "1630a9dc",
        "outputId": "ee748c22-fd98-438b-8f10-c86129a39cff"
      },
      "outputs": [
        {
          "output_type": "execute_result",
          "data": {
            "text/plain": [
              "SVC()"
            ]
          },
          "metadata": {},
          "execution_count": 73
        }
      ],
      "source": [
        "vm.fit(X_train,y_train)"
      ],
      "id": "1630a9dc"
    },
    {
      "cell_type": "code",
      "execution_count": 74,
      "metadata": {
        "id": "03b7f0c1"
      },
      "outputs": [],
      "source": [
        "P3=vm.predict(X_test)"
      ],
      "id": "03b7f0c1"
    },
    {
      "cell_type": "code",
      "execution_count": 75,
      "metadata": {
        "colab": {
          "base_uri": "https://localhost:8080/"
        },
        "id": "60a20c82",
        "outputId": "7a862523-c58f-42ba-a98a-4bafc0a72870"
      },
      "outputs": [
        {
          "output_type": "stream",
          "name": "stdout",
          "text": [
            "              precision    recall  f1-score   support\n",
            "\n",
            "           0       0.00      0.00      0.00       300\n",
            "           1       0.99      1.00      0.99     26107\n",
            "\n",
            "    accuracy                           0.99     26407\n",
            "   macro avg       0.49      0.50      0.50     26407\n",
            "weighted avg       0.98      0.99      0.98     26407\n",
            "\n",
            "\n",
            "\n",
            "[[    0   300]\n",
            " [    0 26107]]\n",
            "\n",
            "\n",
            "0.9886393759230507\n"
          ]
        },
        {
          "output_type": "stream",
          "name": "stderr",
          "text": [
            "/usr/local/lib/python3.7/dist-packages/sklearn/metrics/_classification.py:1318: UndefinedMetricWarning: Precision and F-score are ill-defined and being set to 0.0 in labels with no predicted samples. Use `zero_division` parameter to control this behavior.\n",
            "  _warn_prf(average, modifier, msg_start, len(result))\n",
            "/usr/local/lib/python3.7/dist-packages/sklearn/metrics/_classification.py:1318: UndefinedMetricWarning: Precision and F-score are ill-defined and being set to 0.0 in labels with no predicted samples. Use `zero_division` parameter to control this behavior.\n",
            "  _warn_prf(average, modifier, msg_start, len(result))\n",
            "/usr/local/lib/python3.7/dist-packages/sklearn/metrics/_classification.py:1318: UndefinedMetricWarning: Precision and F-score are ill-defined and being set to 0.0 in labels with no predicted samples. Use `zero_division` parameter to control this behavior.\n",
            "  _warn_prf(average, modifier, msg_start, len(result))\n"
          ]
        }
      ],
      "source": [
        "print(classification_report(y_test,P3))\n",
        "print('\\n')\n",
        "print(confusion_matrix(y_test, P3))\n",
        "print('\\n')\n",
        "print(accuracy_score(y_test, P3))"
      ],
      "id": "60a20c82"
    },
    {
      "cell_type": "markdown",
      "metadata": {
        "id": "60ffded0"
      },
      "source": [
        "### Gridsearch"
      ],
      "id": "60ffded0"
    },
    {
      "cell_type": "code",
      "execution_count": 76,
      "metadata": {
        "id": "54ee73d8"
      },
      "outputs": [],
      "source": [
        "from sklearn.model_selection import GridSearchCV"
      ],
      "id": "54ee73d8"
    },
    {
      "cell_type": "code",
      "execution_count": 77,
      "metadata": {
        "id": "ddfb6efd"
      },
      "outputs": [],
      "source": [
        "#param_grid = {'C': [0.1,1, 10, 100, 1000,10000], 'gamma': [1,0.1,0.01,0.001,0.0001]} "
      ],
      "id": "ddfb6efd"
    },
    {
      "cell_type": "code",
      "execution_count": 78,
      "metadata": {
        "id": "ec9c27e6"
      },
      "outputs": [],
      "source": [
        "#gr=GridSearchCV(SVC(),param_grid)"
      ],
      "id": "ec9c27e6"
    },
    {
      "cell_type": "code",
      "execution_count": 79,
      "metadata": {
        "id": "88399ea6"
      },
      "outputs": [],
      "source": [
        "#gr.fit(X_train,y_train)"
      ],
      "id": "88399ea6"
    },
    {
      "cell_type": "code",
      "execution_count": 80,
      "metadata": {
        "id": "b32f4548"
      },
      "outputs": [],
      "source": [
        "#gr.best_estimator_"
      ],
      "id": "b32f4548"
    },
    {
      "cell_type": "code",
      "execution_count": 81,
      "metadata": {
        "id": "bbc80668"
      },
      "outputs": [],
      "source": [
        "#gr.best_params_"
      ],
      "id": "bbc80668"
    },
    {
      "cell_type": "code",
      "execution_count": 82,
      "metadata": {
        "id": "546319f5"
      },
      "outputs": [],
      "source": [
        "#P4=gr.predict(X_test)"
      ],
      "id": "546319f5"
    },
    {
      "cell_type": "code",
      "execution_count": 83,
      "metadata": {
        "id": "e4e8e3b6",
        "colab": {
          "base_uri": "https://localhost:8080/",
          "height": 35
        },
        "outputId": "f2e5ab43-54aa-4a38-8ce2-31b2451eeb4c"
      },
      "outputs": [
        {
          "output_type": "execute_result",
          "data": {
            "text/plain": [
              "\"print(classification_report(y_test,P4))\\nprint('\\n')\\nprint(confusion_matrix(y_test, P4))\\nprint('\\n')\\nprint(accuracy_score(y_test, P4))\""
            ],
            "application/vnd.google.colaboratory.intrinsic+json": {
              "type": "string"
            }
          },
          "metadata": {},
          "execution_count": 83
        }
      ],
      "source": [
        "'''print(classification_report(y_test,P4))\n",
        "print('\\n')\n",
        "print(confusion_matrix(y_test, P4))\n",
        "print('\\n')\n",
        "print(accuracy_score(y_test, P4))'''"
      ],
      "id": "e4e8e3b6"
    },
    {
      "cell_type": "markdown",
      "metadata": {
        "id": "434a5c1b"
      },
      "source": [
        "## Naive Bayes classifier"
      ],
      "id": "434a5c1b"
    },
    {
      "cell_type": "code",
      "execution_count": 84,
      "metadata": {
        "id": "fabf9f40"
      },
      "outputs": [],
      "source": [
        "from sklearn.naive_bayes import GaussianNB"
      ],
      "id": "fabf9f40"
    },
    {
      "cell_type": "code",
      "execution_count": 85,
      "metadata": {
        "id": "ae4c25a5"
      },
      "outputs": [],
      "source": [
        "NB = GaussianNB()"
      ],
      "id": "ae4c25a5"
    },
    {
      "cell_type": "code",
      "execution_count": 86,
      "metadata": {
        "id": "2422b2b3",
        "colab": {
          "base_uri": "https://localhost:8080/"
        },
        "outputId": "4a298540-a866-4a6d-afbc-face08e4647f"
      },
      "outputs": [
        {
          "output_type": "execute_result",
          "data": {
            "text/plain": [
              "GaussianNB()"
            ]
          },
          "metadata": {},
          "execution_count": 86
        }
      ],
      "source": [
        "NB.fit(X_train,y_train)"
      ],
      "id": "2422b2b3"
    },
    {
      "cell_type": "code",
      "execution_count": 87,
      "metadata": {
        "id": "b1ef75c1"
      },
      "outputs": [],
      "source": [
        "P5= NB.predict(X_test)"
      ],
      "id": "b1ef75c1"
    },
    {
      "cell_type": "code",
      "execution_count": 88,
      "metadata": {
        "id": "9905bc73",
        "colab": {
          "base_uri": "https://localhost:8080/"
        },
        "outputId": "b43143cb-ba53-4b6c-94e5-9efcf81f58f5"
      },
      "outputs": [
        {
          "output_type": "stream",
          "name": "stdout",
          "text": [
            "              precision    recall  f1-score   support\n",
            "\n",
            "           0       0.73      0.99      0.84       300\n",
            "           1       1.00      1.00      1.00     26107\n",
            "\n",
            "    accuracy                           1.00     26407\n",
            "   macro avg       0.86      0.99      0.92     26407\n",
            "weighted avg       1.00      1.00      1.00     26407\n",
            "\n",
            "\n",
            "\n",
            "[[  297     3]\n",
            " [  112 25995]]\n",
            "\n",
            "\n",
            "0.9956450941038361\n"
          ]
        }
      ],
      "source": [
        "print(classification_report(y_test,P5))\n",
        "print('\\n')\n",
        "print(confusion_matrix(y_test, P5))\n",
        "print('\\n')\n",
        "print(accuracy_score(y_test, P5))"
      ],
      "id": "9905bc73"
    },
    {
      "cell_type": "markdown",
      "metadata": {
        "id": "44900c62"
      },
      "source": [
        "## KNN"
      ],
      "id": "44900c62"
    },
    {
      "cell_type": "code",
      "execution_count": 89,
      "metadata": {
        "id": "7931f886"
      },
      "outputs": [],
      "source": [
        "from sklearn.neighbors import KNeighborsClassifier"
      ],
      "id": "7931f886"
    },
    {
      "cell_type": "code",
      "execution_count": 90,
      "metadata": {
        "id": "58dff84a"
      },
      "outputs": [],
      "source": [
        "knn = KNeighborsClassifier(n_neighbors=1)"
      ],
      "id": "58dff84a"
    },
    {
      "cell_type": "code",
      "execution_count": 91,
      "metadata": {
        "id": "5073565e",
        "colab": {
          "base_uri": "https://localhost:8080/"
        },
        "outputId": "43d56dd2-224b-42b4-9f18-1119c9d87f16"
      },
      "outputs": [
        {
          "output_type": "execute_result",
          "data": {
            "text/plain": [
              "KNeighborsClassifier(n_neighbors=1)"
            ]
          },
          "metadata": {},
          "execution_count": 91
        }
      ],
      "source": [
        "knn.fit(X_train,y_train)"
      ],
      "id": "5073565e"
    },
    {
      "cell_type": "code",
      "execution_count": 92,
      "metadata": {
        "id": "c42e5d66"
      },
      "outputs": [],
      "source": [
        "P6=knn.predict(X_test)"
      ],
      "id": "c42e5d66"
    },
    {
      "cell_type": "code",
      "execution_count": 93,
      "metadata": {
        "id": "d7932ec2",
        "colab": {
          "base_uri": "https://localhost:8080/"
        },
        "outputId": "976539fe-f2e0-4e30-c065-f77b376f36e8"
      },
      "outputs": [
        {
          "output_type": "stream",
          "name": "stdout",
          "text": [
            "              precision    recall  f1-score   support\n",
            "\n",
            "           0       0.76      0.77      0.76       300\n",
            "           1       1.00      1.00      1.00     26107\n",
            "\n",
            "    accuracy                           0.99     26407\n",
            "   macro avg       0.88      0.88      0.88     26407\n",
            "weighted avg       0.99      0.99      0.99     26407\n",
            "\n",
            "\n",
            "\n",
            "[[  230    70]\n",
            " [   72 26035]]\n",
            "\n",
            "\n",
            "0.9946226379369106\n"
          ]
        }
      ],
      "source": [
        "print(classification_report(y_test,P6))\n",
        "print('\\n')\n",
        "print(confusion_matrix(y_test, P6))\n",
        "print('\\n')\n",
        "print(accuracy_score(y_test, P6))"
      ],
      "id": "d7932ec2"
    },
    {
      "cell_type": "markdown",
      "metadata": {
        "id": "f4f1a5a6"
      },
      "source": [
        "## Logistic Regression"
      ],
      "id": "f4f1a5a6"
    },
    {
      "cell_type": "code",
      "execution_count": 94,
      "metadata": {
        "id": "e5092327"
      },
      "outputs": [],
      "source": [
        "from sklearn.linear_model import LogisticRegression"
      ],
      "id": "e5092327"
    },
    {
      "cell_type": "code",
      "execution_count": 95,
      "metadata": {
        "id": "bc2b3aa0"
      },
      "outputs": [],
      "source": [
        "lr = LogisticRegression()"
      ],
      "id": "bc2b3aa0"
    },
    {
      "cell_type": "code",
      "execution_count": 96,
      "metadata": {
        "id": "1287e767",
        "colab": {
          "base_uri": "https://localhost:8080/"
        },
        "outputId": "3b4b3c7e-0a1c-43ae-e2b0-afd389153eb5"
      },
      "outputs": [
        {
          "output_type": "stream",
          "name": "stderr",
          "text": [
            "/usr/local/lib/python3.7/dist-packages/sklearn/linear_model/_logistic.py:818: ConvergenceWarning: lbfgs failed to converge (status=1):\n",
            "STOP: TOTAL NO. of ITERATIONS REACHED LIMIT.\n",
            "\n",
            "Increase the number of iterations (max_iter) or scale the data as shown in:\n",
            "    https://scikit-learn.org/stable/modules/preprocessing.html\n",
            "Please also refer to the documentation for alternative solver options:\n",
            "    https://scikit-learn.org/stable/modules/linear_model.html#logistic-regression\n",
            "  extra_warning_msg=_LOGISTIC_SOLVER_CONVERGENCE_MSG,\n"
          ]
        },
        {
          "output_type": "execute_result",
          "data": {
            "text/plain": [
              "LogisticRegression()"
            ]
          },
          "metadata": {},
          "execution_count": 96
        }
      ],
      "source": [
        "lr.fit(X_train,y_train)"
      ],
      "id": "1287e767"
    },
    {
      "cell_type": "code",
      "execution_count": 97,
      "metadata": {
        "id": "8482d3c8"
      },
      "outputs": [],
      "source": [
        "P8=lr.predict(X_test)"
      ],
      "id": "8482d3c8"
    },
    {
      "cell_type": "code",
      "execution_count": 98,
      "metadata": {
        "id": "cb773aaf",
        "colab": {
          "base_uri": "https://localhost:8080/"
        },
        "outputId": "bbfe78f1-e0d2-4447-8dd6-e8622ba36e60"
      },
      "outputs": [
        {
          "output_type": "stream",
          "name": "stdout",
          "text": [
            "              precision    recall  f1-score   support\n",
            "\n",
            "           0       0.73      1.00      0.84       300\n",
            "           1       1.00      1.00      1.00     26107\n",
            "\n",
            "    accuracy                           1.00     26407\n",
            "   macro avg       0.86      1.00      0.92     26407\n",
            "weighted avg       1.00      1.00      1.00     26407\n",
            "\n",
            "\n",
            "\n",
            "[[  299     1]\n",
            " [  113 25994]]\n",
            "\n",
            "\n",
            "0.9956829628507593\n"
          ]
        }
      ],
      "source": [
        "print(classification_report(y_test,P8))\n",
        "print('\\n')\n",
        "print(confusion_matrix(y_test, P8))\n",
        "print('\\n')\n",
        "print(accuracy_score(y_test, P8))"
      ],
      "id": "cb773aaf"
    },
    {
      "cell_type": "markdown",
      "metadata": {
        "id": "b1226f66"
      },
      "source": [
        "## GB Boosting"
      ],
      "id": "b1226f66"
    },
    {
      "cell_type": "code",
      "execution_count": 99,
      "metadata": {
        "id": "dccbdf31"
      },
      "outputs": [],
      "source": [
        "from sklearn.ensemble import GradientBoostingClassifier"
      ],
      "id": "dccbdf31"
    },
    {
      "cell_type": "code",
      "execution_count": 100,
      "metadata": {
        "id": "2e696b2c"
      },
      "outputs": [],
      "source": [
        "gr = GradientBoostingClassifier(n_estimators=100, learning_rate=1.0, max_depth=1)"
      ],
      "id": "2e696b2c"
    },
    {
      "cell_type": "code",
      "execution_count": 101,
      "metadata": {
        "id": "c0afaf59",
        "colab": {
          "base_uri": "https://localhost:8080/"
        },
        "outputId": "554420f1-267d-47a9-8ae7-83a6547d4a70"
      },
      "outputs": [
        {
          "output_type": "execute_result",
          "data": {
            "text/plain": [
              "GradientBoostingClassifier(learning_rate=1.0, max_depth=1)"
            ]
          },
          "metadata": {},
          "execution_count": 101
        }
      ],
      "source": [
        "gr.fit(X_train,y_train)"
      ],
      "id": "c0afaf59"
    },
    {
      "cell_type": "code",
      "execution_count": 102,
      "metadata": {
        "id": "aff12458"
      },
      "outputs": [],
      "source": [
        "P9=gr.predict(X_test)"
      ],
      "id": "aff12458"
    },
    {
      "cell_type": "code",
      "execution_count": 103,
      "metadata": {
        "id": "2df86123",
        "colab": {
          "base_uri": "https://localhost:8080/"
        },
        "outputId": "51d47b7c-d59b-4d74-f973-1cf036d67ae1"
      },
      "outputs": [
        {
          "output_type": "stream",
          "name": "stdout",
          "text": [
            "              precision    recall  f1-score   support\n",
            "\n",
            "           0       0.00      0.00      0.00       300\n",
            "           1       0.99      1.00      0.99     26107\n",
            "\n",
            "    accuracy                           0.99     26407\n",
            "   macro avg       0.49      0.50      0.50     26407\n",
            "weighted avg       0.98      0.99      0.98     26407\n",
            "\n",
            "\n",
            "\n",
            "[[    0   300]\n",
            " [    0 26107]]\n",
            "\n",
            "\n",
            "0.9886393759230507\n"
          ]
        },
        {
          "output_type": "stream",
          "name": "stderr",
          "text": [
            "/usr/local/lib/python3.7/dist-packages/sklearn/metrics/_classification.py:1318: UndefinedMetricWarning: Precision and F-score are ill-defined and being set to 0.0 in labels with no predicted samples. Use `zero_division` parameter to control this behavior.\n",
            "  _warn_prf(average, modifier, msg_start, len(result))\n",
            "/usr/local/lib/python3.7/dist-packages/sklearn/metrics/_classification.py:1318: UndefinedMetricWarning: Precision and F-score are ill-defined and being set to 0.0 in labels with no predicted samples. Use `zero_division` parameter to control this behavior.\n",
            "  _warn_prf(average, modifier, msg_start, len(result))\n",
            "/usr/local/lib/python3.7/dist-packages/sklearn/metrics/_classification.py:1318: UndefinedMetricWarning: Precision and F-score are ill-defined and being set to 0.0 in labels with no predicted samples. Use `zero_division` parameter to control this behavior.\n",
            "  _warn_prf(average, modifier, msg_start, len(result))\n"
          ]
        }
      ],
      "source": [
        "print(classification_report(y_test,P9))\n",
        "print('\\n')\n",
        "print(confusion_matrix(y_test, P9))\n",
        "print('\\n')\n",
        "print(accuracy_score(y_test, P9))"
      ],
      "id": "2df86123"
    },
    {
      "cell_type": "markdown",
      "metadata": {
        "id": "4bc22bd6"
      },
      "source": [
        "## Histogram Boosting Classifier"
      ],
      "id": "4bc22bd6"
    },
    {
      "cell_type": "code",
      "execution_count": 104,
      "metadata": {
        "id": "38aae9ba",
        "colab": {
          "base_uri": "https://localhost:8080/"
        },
        "outputId": "016bdf80-351c-4745-f74d-cb617507529e"
      },
      "outputs": [
        {
          "output_type": "stream",
          "name": "stderr",
          "text": [
            "/usr/local/lib/python3.7/dist-packages/sklearn/experimental/enable_hist_gradient_boosting.py:17: UserWarning: Since version 1.0, it is not needed to import enable_hist_gradient_boosting anymore. HistGradientBoostingClassifier and HistGradientBoostingRegressor are now stable and can be normally imported from sklearn.ensemble.\n",
            "  \"Since version 1.0, \"\n"
          ]
        }
      ],
      "source": [
        "from sklearn.experimental import enable_hist_gradient_boosting\n",
        "from sklearn.ensemble import HistGradientBoostingClassifier\n",
        "from sklearn.model_selection import KFold , cross_val_score"
      ],
      "id": "38aae9ba"
    },
    {
      "cell_type": "code",
      "execution_count": 105,
      "metadata": {
        "id": "9ed00796"
      },
      "outputs": [],
      "source": [
        "hsb = HistGradientBoostingClassifier()"
      ],
      "id": "9ed00796"
    },
    {
      "cell_type": "code",
      "execution_count": 106,
      "metadata": {
        "id": "3c83a779"
      },
      "outputs": [],
      "source": [
        "kfold= KFold(n_splits=5, shuffle=False, random_state=None)\n",
        "scores= cross_val_score(hsb, X_train, y_train, cv=kfold)"
      ],
      "id": "3c83a779"
    },
    {
      "cell_type": "code",
      "execution_count": 107,
      "metadata": {
        "id": "975cc083",
        "colab": {
          "base_uri": "https://localhost:8080/"
        },
        "outputId": "0e14a9d8-706d-4ae5-d6de-ba800229fdab"
      },
      "outputs": [
        {
          "output_type": "stream",
          "name": "stdout",
          "text": [
            "[0.99640254 0.99649721 0.99531361 0.99564497 0.99559763]\n"
          ]
        }
      ],
      "source": [
        "print(scores)"
      ],
      "id": "975cc083"
    },
    {
      "cell_type": "markdown",
      "metadata": {
        "id": "9bb277ca"
      },
      "source": [
        ""
      ],
      "id": "9bb277ca"
    },
    {
      "cell_type": "markdown",
      "metadata": {
        "id": "77839b61"
      },
      "source": [
        "### XGBoost Classifier"
      ],
      "id": "77839b61"
    },
    {
      "cell_type": "code",
      "execution_count": 109,
      "metadata": {
        "id": "5d035e4c",
        "scrolled": false,
        "colab": {
          "base_uri": "https://localhost:8080/"
        },
        "outputId": "4817b200-111c-46b0-e681-997fb0437955"
      },
      "outputs": [
        {
          "output_type": "stream",
          "name": "stdout",
          "text": [
            "Accuracy: 99.58%\n"
          ]
        }
      ],
      "source": [
        "from xgboost import XGBClassifier\n",
        "model = XGBClassifier(verbosity = 0)\n",
        "model.fit(X_ros, y_ros)\n",
        "y_pred = model.predict(X_test)\n",
        "predictions = model.predict_proba(X_test)[:, 1]\n",
        "accuracy = accuracy_score(y_test, y_pred)\n",
        "print(\"Accuracy: %.2f%%\" % (accuracy * 100.0))"
      ],
      "id": "5d035e4c"
    },
    {
      "cell_type": "markdown",
      "metadata": {
        "id": "ae6cc2cc"
      },
      "source": [
        "## Light GBM"
      ],
      "id": "ae6cc2cc"
    },
    {
      "cell_type": "code",
      "execution_count": 110,
      "metadata": {
        "id": "e1bb8e77"
      },
      "outputs": [],
      "source": [
        "from lightgbm import LGBMClassifier"
      ],
      "id": "e1bb8e77"
    },
    {
      "cell_type": "code",
      "execution_count": 111,
      "metadata": {
        "id": "5336c938"
      },
      "outputs": [],
      "source": [
        "lgb=LGBMClassifier()"
      ],
      "id": "5336c938"
    },
    {
      "cell_type": "code",
      "execution_count": 112,
      "metadata": {
        "id": "235ce08f"
      },
      "outputs": [],
      "source": [
        "kfold= KFold(n_splits=5, shuffle=False, random_state=None)\n",
        "scores= cross_val_score(lgb, X_train, y_train, cv=kfold)"
      ],
      "id": "235ce08f"
    },
    {
      "cell_type": "code",
      "execution_count": 113,
      "metadata": {
        "id": "9e6cc2ff",
        "colab": {
          "base_uri": "https://localhost:8080/"
        },
        "outputId": "9d8e4d3f-aaab-43c3-a885-2c91b2f1039d"
      },
      "outputs": [
        {
          "output_type": "stream",
          "name": "stdout",
          "text": [
            "[0.99611853 0.99654454 0.99536095 0.99583432 0.99597633]\n"
          ]
        }
      ],
      "source": [
        "print(scores)"
      ],
      "id": "9e6cc2ff"
    },
    {
      "cell_type": "markdown",
      "metadata": {
        "id": "ff216d29"
      },
      "source": [
        "## CAT Boosting"
      ],
      "id": "ff216d29"
    },
    {
      "cell_type": "code",
      "execution_count": 128,
      "metadata": {
        "id": "19b28ba6"
      },
      "outputs": [],
      "source": [
        "#from catboost import CatBoostClassifier"
      ],
      "id": "19b28ba6"
    },
    {
      "cell_type": "code",
      "execution_count": 115,
      "metadata": {
        "id": "d9fbcad2"
      },
      "outputs": [],
      "source": [
        "#cat= CatBoostClassifier()"
      ],
      "id": "d9fbcad2"
    },
    {
      "cell_type": "code",
      "execution_count": 116,
      "metadata": {
        "id": "fdb5fc30"
      },
      "outputs": [],
      "source": [
        "#kfold= KFold(n_splits=10, shuffle=False, random_state=None)\n",
        "#scores= cross_val_score(cat, X_train, y_train, cv=kfold,verbose=0)"
      ],
      "id": "fdb5fc30"
    },
    {
      "cell_type": "code",
      "execution_count": 117,
      "metadata": {
        "id": "560aaa9e"
      },
      "outputs": [],
      "source": [
        "#print(scores)"
      ],
      "id": "560aaa9e"
    },
    {
      "cell_type": "markdown",
      "metadata": {
        "id": "7f91f982"
      },
      "source": [
        "## ALL AT ONE PLACE¶"
      ],
      "id": "7f91f982"
    },
    {
      "cell_type": "code",
      "execution_count": 118,
      "metadata": {
        "id": "9344129e"
      },
      "outputs": [],
      "source": [
        "Name=['Random Forest Classifier','Decision Tree','SVM', 'Naive Bayes classifier', 'KNN', 'Logistic Regression', \n",
        "      'GBBoosting','Histogram Boosting Classifier','XGB Boosting','Light GBM']\n",
        "clfs= [RandomForestClassifier(),DecisionTreeClassifier(),SVC(),GaussianNB(),KNeighborsClassifier(n_neighbors=2),\n",
        "       LogisticRegression(),GradientBoostingClassifier(n_estimators=100, learning_rate=1.0, max_depth=1),\n",
        "       HistGradientBoostingClassifier(),XGBClassifier(),LGBMClassifier()]"
      ],
      "id": "9344129e"
    },
    {
      "cell_type": "code",
      "execution_count": 119,
      "metadata": {
        "id": "80c453c0",
        "colab": {
          "base_uri": "https://localhost:8080/",
          "height": 502
        },
        "outputId": "ffbabd0e-dcfb-44f1-b672-1d911ecdd3b2"
      },
      "outputs": [
        {
          "output_type": "stream",
          "name": "stderr",
          "text": [
            "/usr/local/lib/python3.7/dist-packages/sklearn/linear_model/_logistic.py:818: ConvergenceWarning: lbfgs failed to converge (status=1):\n",
            "STOP: TOTAL NO. of ITERATIONS REACHED LIMIT.\n",
            "\n",
            "Increase the number of iterations (max_iter) or scale the data as shown in:\n",
            "    https://scikit-learn.org/stable/modules/preprocessing.html\n",
            "Please also refer to the documentation for alternative solver options:\n",
            "    https://scikit-learn.org/stable/modules/linear_model.html#logistic-regression\n",
            "  extra_warning_msg=_LOGISTIC_SOLVER_CONVERGENCE_MSG,\n"
          ]
        },
        {
          "output_type": "execute_result",
          "data": {
            "text/plain": [
              "                               Accuracy\n",
              "XGB Boosting                   0.995759\n",
              "Logistic Regression            0.995683\n",
              "Naive Bayes classifier         0.995645\n",
              "Histogram Boosting Classifier  0.995645\n",
              "Light GBM                      0.995569\n",
              "Random Forest Classifier       0.995342\n",
              "Decision Tree                  0.995191\n",
              "KNN                            0.995077\n",
              "SVM                            0.988639\n",
              "GBBoosting                     0.988639"
            ],
            "text/html": [
              "\n",
              "  <div id=\"df-4be29709-d758-4340-9ee9-4ee744c743b1\">\n",
              "    <div class=\"colab-df-container\">\n",
              "      <div>\n",
              "<style scoped>\n",
              "    .dataframe tbody tr th:only-of-type {\n",
              "        vertical-align: middle;\n",
              "    }\n",
              "\n",
              "    .dataframe tbody tr th {\n",
              "        vertical-align: top;\n",
              "    }\n",
              "\n",
              "    .dataframe thead th {\n",
              "        text-align: right;\n",
              "    }\n",
              "</style>\n",
              "<table border=\"1\" class=\"dataframe\">\n",
              "  <thead>\n",
              "    <tr style=\"text-align: right;\">\n",
              "      <th></th>\n",
              "      <th>Accuracy</th>\n",
              "    </tr>\n",
              "  </thead>\n",
              "  <tbody>\n",
              "    <tr>\n",
              "      <th>XGB Boosting</th>\n",
              "      <td>0.995759</td>\n",
              "    </tr>\n",
              "    <tr>\n",
              "      <th>Logistic Regression</th>\n",
              "      <td>0.995683</td>\n",
              "    </tr>\n",
              "    <tr>\n",
              "      <th>Naive Bayes classifier</th>\n",
              "      <td>0.995645</td>\n",
              "    </tr>\n",
              "    <tr>\n",
              "      <th>Histogram Boosting Classifier</th>\n",
              "      <td>0.995645</td>\n",
              "    </tr>\n",
              "    <tr>\n",
              "      <th>Light GBM</th>\n",
              "      <td>0.995569</td>\n",
              "    </tr>\n",
              "    <tr>\n",
              "      <th>Random Forest Classifier</th>\n",
              "      <td>0.995342</td>\n",
              "    </tr>\n",
              "    <tr>\n",
              "      <th>Decision Tree</th>\n",
              "      <td>0.995191</td>\n",
              "    </tr>\n",
              "    <tr>\n",
              "      <th>KNN</th>\n",
              "      <td>0.995077</td>\n",
              "    </tr>\n",
              "    <tr>\n",
              "      <th>SVM</th>\n",
              "      <td>0.988639</td>\n",
              "    </tr>\n",
              "    <tr>\n",
              "      <th>GBBoosting</th>\n",
              "      <td>0.988639</td>\n",
              "    </tr>\n",
              "  </tbody>\n",
              "</table>\n",
              "</div>\n",
              "      <button class=\"colab-df-convert\" onclick=\"convertToInteractive('df-4be29709-d758-4340-9ee9-4ee744c743b1')\"\n",
              "              title=\"Convert this dataframe to an interactive table.\"\n",
              "              style=\"display:none;\">\n",
              "        \n",
              "  <svg xmlns=\"http://www.w3.org/2000/svg\" height=\"24px\"viewBox=\"0 0 24 24\"\n",
              "       width=\"24px\">\n",
              "    <path d=\"M0 0h24v24H0V0z\" fill=\"none\"/>\n",
              "    <path d=\"M18.56 5.44l.94 2.06.94-2.06 2.06-.94-2.06-.94-.94-2.06-.94 2.06-2.06.94zm-11 1L8.5 8.5l.94-2.06 2.06-.94-2.06-.94L8.5 2.5l-.94 2.06-2.06.94zm10 10l.94 2.06.94-2.06 2.06-.94-2.06-.94-.94-2.06-.94 2.06-2.06.94z\"/><path d=\"M17.41 7.96l-1.37-1.37c-.4-.4-.92-.59-1.43-.59-.52 0-1.04.2-1.43.59L10.3 9.45l-7.72 7.72c-.78.78-.78 2.05 0 2.83L4 21.41c.39.39.9.59 1.41.59.51 0 1.02-.2 1.41-.59l7.78-7.78 2.81-2.81c.8-.78.8-2.07 0-2.86zM5.41 20L4 18.59l7.72-7.72 1.47 1.35L5.41 20z\"/>\n",
              "  </svg>\n",
              "      </button>\n",
              "      \n",
              "  <style>\n",
              "    .colab-df-container {\n",
              "      display:flex;\n",
              "      flex-wrap:wrap;\n",
              "      gap: 12px;\n",
              "    }\n",
              "\n",
              "    .colab-df-convert {\n",
              "      background-color: #E8F0FE;\n",
              "      border: none;\n",
              "      border-radius: 50%;\n",
              "      cursor: pointer;\n",
              "      display: none;\n",
              "      fill: #1967D2;\n",
              "      height: 32px;\n",
              "      padding: 0 0 0 0;\n",
              "      width: 32px;\n",
              "    }\n",
              "\n",
              "    .colab-df-convert:hover {\n",
              "      background-color: #E2EBFA;\n",
              "      box-shadow: 0px 1px 2px rgba(60, 64, 67, 0.3), 0px 1px 3px 1px rgba(60, 64, 67, 0.15);\n",
              "      fill: #174EA6;\n",
              "    }\n",
              "\n",
              "    [theme=dark] .colab-df-convert {\n",
              "      background-color: #3B4455;\n",
              "      fill: #D2E3FC;\n",
              "    }\n",
              "\n",
              "    [theme=dark] .colab-df-convert:hover {\n",
              "      background-color: #434B5C;\n",
              "      box-shadow: 0px 1px 3px 1px rgba(0, 0, 0, 0.15);\n",
              "      filter: drop-shadow(0px 1px 2px rgba(0, 0, 0, 0.3));\n",
              "      fill: #FFFFFF;\n",
              "    }\n",
              "  </style>\n",
              "\n",
              "      <script>\n",
              "        const buttonEl =\n",
              "          document.querySelector('#df-4be29709-d758-4340-9ee9-4ee744c743b1 button.colab-df-convert');\n",
              "        buttonEl.style.display =\n",
              "          google.colab.kernel.accessAllowed ? 'block' : 'none';\n",
              "\n",
              "        async function convertToInteractive(key) {\n",
              "          const element = document.querySelector('#df-4be29709-d758-4340-9ee9-4ee744c743b1');\n",
              "          const dataTable =\n",
              "            await google.colab.kernel.invokeFunction('convertToInteractive',\n",
              "                                                     [key], {});\n",
              "          if (!dataTable) return;\n",
              "\n",
              "          const docLinkHtml = 'Like what you see? Visit the ' +\n",
              "            '<a target=\"_blank\" href=https://colab.research.google.com/notebooks/data_table.ipynb>data table notebook</a>'\n",
              "            + ' to learn more about interactive tables.';\n",
              "          element.innerHTML = '';\n",
              "          dataTable['output_type'] = 'display_data';\n",
              "          await google.colab.output.renderOutput(dataTable, element);\n",
              "          const docLink = document.createElement('div');\n",
              "          docLink.innerHTML = docLinkHtml;\n",
              "          element.appendChild(docLink);\n",
              "        }\n",
              "      </script>\n",
              "    </div>\n",
              "  </div>\n",
              "  "
            ]
          },
          "metadata": {},
          "execution_count": 119
        }
      ],
      "source": [
        "results=[]\n",
        "for i in clfs:\n",
        "    i.fit(X_train,y_train)\n",
        "    acc=accuracy_score(y_test, i.predict(X_test))\n",
        "    results.append(acc)\n",
        "\n",
        "score= pd.DataFrame(results,index=Name)\n",
        "score.columns=['Accuracy']\n",
        "score.sort_values(by='Accuracy',ascending=False)"
      ],
      "id": "80c453c0"
    },
    {
      "cell_type": "code",
      "execution_count": 120,
      "metadata": {
        "id": "781e1f16",
        "colab": {
          "base_uri": "https://localhost:8080/",
          "height": 363
        },
        "outputId": "6cb5ed85-6804-401f-cda7-fdaf8548a862"
      },
      "outputs": [
        {
          "output_type": "execute_result",
          "data": {
            "text/plain": [
              "                               Accuracy\n",
              "XGB Boosting                   0.995759\n",
              "Logistic Regression            0.995683\n",
              "Naive Bayes classifier         0.995645\n",
              "Histogram Boosting Classifier  0.995645\n",
              "Light GBM                      0.995569\n",
              "Random Forest Classifier       0.995342\n",
              "Decision Tree                  0.995191\n",
              "KNN                            0.995077\n",
              "SVM                            0.988639\n",
              "GBBoosting                     0.988639"
            ],
            "text/html": [
              "\n",
              "  <div id=\"df-45bf8f6a-1451-49c5-ab4e-87b573204e96\">\n",
              "    <div class=\"colab-df-container\">\n",
              "      <div>\n",
              "<style scoped>\n",
              "    .dataframe tbody tr th:only-of-type {\n",
              "        vertical-align: middle;\n",
              "    }\n",
              "\n",
              "    .dataframe tbody tr th {\n",
              "        vertical-align: top;\n",
              "    }\n",
              "\n",
              "    .dataframe thead th {\n",
              "        text-align: right;\n",
              "    }\n",
              "</style>\n",
              "<table border=\"1\" class=\"dataframe\">\n",
              "  <thead>\n",
              "    <tr style=\"text-align: right;\">\n",
              "      <th></th>\n",
              "      <th>Accuracy</th>\n",
              "    </tr>\n",
              "  </thead>\n",
              "  <tbody>\n",
              "    <tr>\n",
              "      <th>XGB Boosting</th>\n",
              "      <td>0.995759</td>\n",
              "    </tr>\n",
              "    <tr>\n",
              "      <th>Logistic Regression</th>\n",
              "      <td>0.995683</td>\n",
              "    </tr>\n",
              "    <tr>\n",
              "      <th>Naive Bayes classifier</th>\n",
              "      <td>0.995645</td>\n",
              "    </tr>\n",
              "    <tr>\n",
              "      <th>Histogram Boosting Classifier</th>\n",
              "      <td>0.995645</td>\n",
              "    </tr>\n",
              "    <tr>\n",
              "      <th>Light GBM</th>\n",
              "      <td>0.995569</td>\n",
              "    </tr>\n",
              "    <tr>\n",
              "      <th>Random Forest Classifier</th>\n",
              "      <td>0.995342</td>\n",
              "    </tr>\n",
              "    <tr>\n",
              "      <th>Decision Tree</th>\n",
              "      <td>0.995191</td>\n",
              "    </tr>\n",
              "    <tr>\n",
              "      <th>KNN</th>\n",
              "      <td>0.995077</td>\n",
              "    </tr>\n",
              "    <tr>\n",
              "      <th>SVM</th>\n",
              "      <td>0.988639</td>\n",
              "    </tr>\n",
              "    <tr>\n",
              "      <th>GBBoosting</th>\n",
              "      <td>0.988639</td>\n",
              "    </tr>\n",
              "  </tbody>\n",
              "</table>\n",
              "</div>\n",
              "      <button class=\"colab-df-convert\" onclick=\"convertToInteractive('df-45bf8f6a-1451-49c5-ab4e-87b573204e96')\"\n",
              "              title=\"Convert this dataframe to an interactive table.\"\n",
              "              style=\"display:none;\">\n",
              "        \n",
              "  <svg xmlns=\"http://www.w3.org/2000/svg\" height=\"24px\"viewBox=\"0 0 24 24\"\n",
              "       width=\"24px\">\n",
              "    <path d=\"M0 0h24v24H0V0z\" fill=\"none\"/>\n",
              "    <path d=\"M18.56 5.44l.94 2.06.94-2.06 2.06-.94-2.06-.94-.94-2.06-.94 2.06-2.06.94zm-11 1L8.5 8.5l.94-2.06 2.06-.94-2.06-.94L8.5 2.5l-.94 2.06-2.06.94zm10 10l.94 2.06.94-2.06 2.06-.94-2.06-.94-.94-2.06-.94 2.06-2.06.94z\"/><path d=\"M17.41 7.96l-1.37-1.37c-.4-.4-.92-.59-1.43-.59-.52 0-1.04.2-1.43.59L10.3 9.45l-7.72 7.72c-.78.78-.78 2.05 0 2.83L4 21.41c.39.39.9.59 1.41.59.51 0 1.02-.2 1.41-.59l7.78-7.78 2.81-2.81c.8-.78.8-2.07 0-2.86zM5.41 20L4 18.59l7.72-7.72 1.47 1.35L5.41 20z\"/>\n",
              "  </svg>\n",
              "      </button>\n",
              "      \n",
              "  <style>\n",
              "    .colab-df-container {\n",
              "      display:flex;\n",
              "      flex-wrap:wrap;\n",
              "      gap: 12px;\n",
              "    }\n",
              "\n",
              "    .colab-df-convert {\n",
              "      background-color: #E8F0FE;\n",
              "      border: none;\n",
              "      border-radius: 50%;\n",
              "      cursor: pointer;\n",
              "      display: none;\n",
              "      fill: #1967D2;\n",
              "      height: 32px;\n",
              "      padding: 0 0 0 0;\n",
              "      width: 32px;\n",
              "    }\n",
              "\n",
              "    .colab-df-convert:hover {\n",
              "      background-color: #E2EBFA;\n",
              "      box-shadow: 0px 1px 2px rgba(60, 64, 67, 0.3), 0px 1px 3px 1px rgba(60, 64, 67, 0.15);\n",
              "      fill: #174EA6;\n",
              "    }\n",
              "\n",
              "    [theme=dark] .colab-df-convert {\n",
              "      background-color: #3B4455;\n",
              "      fill: #D2E3FC;\n",
              "    }\n",
              "\n",
              "    [theme=dark] .colab-df-convert:hover {\n",
              "      background-color: #434B5C;\n",
              "      box-shadow: 0px 1px 3px 1px rgba(0, 0, 0, 0.15);\n",
              "      filter: drop-shadow(0px 1px 2px rgba(0, 0, 0, 0.3));\n",
              "      fill: #FFFFFF;\n",
              "    }\n",
              "  </style>\n",
              "\n",
              "      <script>\n",
              "        const buttonEl =\n",
              "          document.querySelector('#df-45bf8f6a-1451-49c5-ab4e-87b573204e96 button.colab-df-convert');\n",
              "        buttonEl.style.display =\n",
              "          google.colab.kernel.accessAllowed ? 'block' : 'none';\n",
              "\n",
              "        async function convertToInteractive(key) {\n",
              "          const element = document.querySelector('#df-45bf8f6a-1451-49c5-ab4e-87b573204e96');\n",
              "          const dataTable =\n",
              "            await google.colab.kernel.invokeFunction('convertToInteractive',\n",
              "                                                     [key], {});\n",
              "          if (!dataTable) return;\n",
              "\n",
              "          const docLinkHtml = 'Like what you see? Visit the ' +\n",
              "            '<a target=\"_blank\" href=https://colab.research.google.com/notebooks/data_table.ipynb>data table notebook</a>'\n",
              "            + ' to learn more about interactive tables.';\n",
              "          element.innerHTML = '';\n",
              "          dataTable['output_type'] = 'display_data';\n",
              "          await google.colab.output.renderOutput(dataTable, element);\n",
              "          const docLink = document.createElement('div');\n",
              "          docLink.innerHTML = docLinkHtml;\n",
              "          element.appendChild(docLink);\n",
              "        }\n",
              "      </script>\n",
              "    </div>\n",
              "  </div>\n",
              "  "
            ]
          },
          "metadata": {},
          "execution_count": 120
        }
      ],
      "source": [
        "score.sort_values(by='Accuracy',ascending=False)"
      ],
      "id": "781e1f16"
    },
    {
      "cell_type": "code",
      "execution_count": 121,
      "metadata": {
        "id": "0adc2595"
      },
      "outputs": [],
      "source": [
        "from sklearn.model_selection import KFold , cross_val_score"
      ],
      "id": "0adc2595"
    },
    {
      "cell_type": "code",
      "execution_count": 122,
      "metadata": {
        "id": "2993c98a"
      },
      "outputs": [],
      "source": [
        "kfold= KFold(n_splits=5, shuffle=False, random_state=None)"
      ],
      "id": "2993c98a"
    },
    {
      "cell_type": "code",
      "execution_count": 123,
      "metadata": {
        "id": "be3fe176",
        "colab": {
          "base_uri": "https://localhost:8080/"
        },
        "outputId": "79d73099-5c70-4e50-cca0-d27499e18898"
      },
      "outputs": [
        {
          "output_type": "stream",
          "name": "stdout",
          "text": [
            "[0.98863959 0.98911294 0.99015385 0.98906509 0.9884497 ]\n"
          ]
        }
      ],
      "source": [
        "scores= cross_val_score(gr, X_train, y_train, cv=kfold)\n",
        "print(scores)"
      ],
      "id": "be3fe176"
    },
    {
      "cell_type": "code",
      "execution_count": 124,
      "metadata": {
        "id": "f6d3e9db",
        "colab": {
          "base_uri": "https://localhost:8080/"
        },
        "outputId": "676380b4-0d1c-41a0-bbd7-1e4da938b7f0"
      },
      "outputs": [
        {
          "output_type": "stream",
          "name": "stdout",
          "text": [
            "[0.9962132  0.99640254 0.99536095 0.99597633 0.99559763]\n"
          ]
        }
      ],
      "source": [
        "scores= cross_val_score(rfc, X_train, y_train, cv=kfold)\n",
        "print(scores)"
      ],
      "id": "f6d3e9db"
    },
    {
      "cell_type": "code",
      "execution_count": 125,
      "metadata": {
        "id": "8bc5666c",
        "colab": {
          "base_uri": "https://localhost:8080/",
          "height": 918
        },
        "outputId": "f32aa853-c0e8-485d-ef2f-0fa4405655e9"
      },
      "outputs": [
        {
          "output_type": "stream",
          "name": "stderr",
          "text": [
            "/usr/local/lib/python3.7/dist-packages/sklearn/linear_model/_logistic.py:818: ConvergenceWarning: lbfgs failed to converge (status=1):\n",
            "STOP: TOTAL NO. of ITERATIONS REACHED LIMIT.\n",
            "\n",
            "Increase the number of iterations (max_iter) or scale the data as shown in:\n",
            "    https://scikit-learn.org/stable/modules/preprocessing.html\n",
            "Please also refer to the documentation for alternative solver options:\n",
            "    https://scikit-learn.org/stable/modules/linear_model.html#logistic-regression\n",
            "  extra_warning_msg=_LOGISTIC_SOLVER_CONVERGENCE_MSG,\n",
            "/usr/local/lib/python3.7/dist-packages/sklearn/linear_model/_logistic.py:818: ConvergenceWarning: lbfgs failed to converge (status=1):\n",
            "STOP: TOTAL NO. of ITERATIONS REACHED LIMIT.\n",
            "\n",
            "Increase the number of iterations (max_iter) or scale the data as shown in:\n",
            "    https://scikit-learn.org/stable/modules/preprocessing.html\n",
            "Please also refer to the documentation for alternative solver options:\n",
            "    https://scikit-learn.org/stable/modules/linear_model.html#logistic-regression\n",
            "  extra_warning_msg=_LOGISTIC_SOLVER_CONVERGENCE_MSG,\n",
            "/usr/local/lib/python3.7/dist-packages/sklearn/linear_model/_logistic.py:818: ConvergenceWarning: lbfgs failed to converge (status=1):\n",
            "STOP: TOTAL NO. of ITERATIONS REACHED LIMIT.\n",
            "\n",
            "Increase the number of iterations (max_iter) or scale the data as shown in:\n",
            "    https://scikit-learn.org/stable/modules/preprocessing.html\n",
            "Please also refer to the documentation for alternative solver options:\n",
            "    https://scikit-learn.org/stable/modules/linear_model.html#logistic-regression\n",
            "  extra_warning_msg=_LOGISTIC_SOLVER_CONVERGENCE_MSG,\n",
            "/usr/local/lib/python3.7/dist-packages/sklearn/linear_model/_logistic.py:818: ConvergenceWarning: lbfgs failed to converge (status=1):\n",
            "STOP: TOTAL NO. of ITERATIONS REACHED LIMIT.\n",
            "\n",
            "Increase the number of iterations (max_iter) or scale the data as shown in:\n",
            "    https://scikit-learn.org/stable/modules/preprocessing.html\n",
            "Please also refer to the documentation for alternative solver options:\n",
            "    https://scikit-learn.org/stable/modules/linear_model.html#logistic-regression\n",
            "  extra_warning_msg=_LOGISTIC_SOLVER_CONVERGENCE_MSG,\n"
          ]
        },
        {
          "output_type": "execute_result",
          "data": {
            "text/plain": [
              "                               Accuracy\n",
              "Logistic Regression            0.996185\n",
              "XGB Boosting                   0.996156\n",
              "Naive Bayes classifier         0.996128\n",
              "Histogram Boosting Classifier  0.996062\n",
              "Light GBM                      0.995967\n",
              "Decision Tree                  0.995948\n",
              "Random Forest Classifier       0.995910\n",
              "KNN                            0.995513\n",
              "SVM                            0.989084\n",
              "GBBoosting                     0.989084"
            ],
            "text/html": [
              "\n",
              "  <div id=\"df-f0ebf26f-779e-43dc-9877-e27eea1b500c\">\n",
              "    <div class=\"colab-df-container\">\n",
              "      <div>\n",
              "<style scoped>\n",
              "    .dataframe tbody tr th:only-of-type {\n",
              "        vertical-align: middle;\n",
              "    }\n",
              "\n",
              "    .dataframe tbody tr th {\n",
              "        vertical-align: top;\n",
              "    }\n",
              "\n",
              "    .dataframe thead th {\n",
              "        text-align: right;\n",
              "    }\n",
              "</style>\n",
              "<table border=\"1\" class=\"dataframe\">\n",
              "  <thead>\n",
              "    <tr style=\"text-align: right;\">\n",
              "      <th></th>\n",
              "      <th>Accuracy</th>\n",
              "    </tr>\n",
              "  </thead>\n",
              "  <tbody>\n",
              "    <tr>\n",
              "      <th>Logistic Regression</th>\n",
              "      <td>0.996185</td>\n",
              "    </tr>\n",
              "    <tr>\n",
              "      <th>XGB Boosting</th>\n",
              "      <td>0.996156</td>\n",
              "    </tr>\n",
              "    <tr>\n",
              "      <th>Naive Bayes classifier</th>\n",
              "      <td>0.996128</td>\n",
              "    </tr>\n",
              "    <tr>\n",
              "      <th>Histogram Boosting Classifier</th>\n",
              "      <td>0.996062</td>\n",
              "    </tr>\n",
              "    <tr>\n",
              "      <th>Light GBM</th>\n",
              "      <td>0.995967</td>\n",
              "    </tr>\n",
              "    <tr>\n",
              "      <th>Decision Tree</th>\n",
              "      <td>0.995948</td>\n",
              "    </tr>\n",
              "    <tr>\n",
              "      <th>Random Forest Classifier</th>\n",
              "      <td>0.995910</td>\n",
              "    </tr>\n",
              "    <tr>\n",
              "      <th>KNN</th>\n",
              "      <td>0.995513</td>\n",
              "    </tr>\n",
              "    <tr>\n",
              "      <th>SVM</th>\n",
              "      <td>0.989084</td>\n",
              "    </tr>\n",
              "    <tr>\n",
              "      <th>GBBoosting</th>\n",
              "      <td>0.989084</td>\n",
              "    </tr>\n",
              "  </tbody>\n",
              "</table>\n",
              "</div>\n",
              "      <button class=\"colab-df-convert\" onclick=\"convertToInteractive('df-f0ebf26f-779e-43dc-9877-e27eea1b500c')\"\n",
              "              title=\"Convert this dataframe to an interactive table.\"\n",
              "              style=\"display:none;\">\n",
              "        \n",
              "  <svg xmlns=\"http://www.w3.org/2000/svg\" height=\"24px\"viewBox=\"0 0 24 24\"\n",
              "       width=\"24px\">\n",
              "    <path d=\"M0 0h24v24H0V0z\" fill=\"none\"/>\n",
              "    <path d=\"M18.56 5.44l.94 2.06.94-2.06 2.06-.94-2.06-.94-.94-2.06-.94 2.06-2.06.94zm-11 1L8.5 8.5l.94-2.06 2.06-.94-2.06-.94L8.5 2.5l-.94 2.06-2.06.94zm10 10l.94 2.06.94-2.06 2.06-.94-2.06-.94-.94-2.06-.94 2.06-2.06.94z\"/><path d=\"M17.41 7.96l-1.37-1.37c-.4-.4-.92-.59-1.43-.59-.52 0-1.04.2-1.43.59L10.3 9.45l-7.72 7.72c-.78.78-.78 2.05 0 2.83L4 21.41c.39.39.9.59 1.41.59.51 0 1.02-.2 1.41-.59l7.78-7.78 2.81-2.81c.8-.78.8-2.07 0-2.86zM5.41 20L4 18.59l7.72-7.72 1.47 1.35L5.41 20z\"/>\n",
              "  </svg>\n",
              "      </button>\n",
              "      \n",
              "  <style>\n",
              "    .colab-df-container {\n",
              "      display:flex;\n",
              "      flex-wrap:wrap;\n",
              "      gap: 12px;\n",
              "    }\n",
              "\n",
              "    .colab-df-convert {\n",
              "      background-color: #E8F0FE;\n",
              "      border: none;\n",
              "      border-radius: 50%;\n",
              "      cursor: pointer;\n",
              "      display: none;\n",
              "      fill: #1967D2;\n",
              "      height: 32px;\n",
              "      padding: 0 0 0 0;\n",
              "      width: 32px;\n",
              "    }\n",
              "\n",
              "    .colab-df-convert:hover {\n",
              "      background-color: #E2EBFA;\n",
              "      box-shadow: 0px 1px 2px rgba(60, 64, 67, 0.3), 0px 1px 3px 1px rgba(60, 64, 67, 0.15);\n",
              "      fill: #174EA6;\n",
              "    }\n",
              "\n",
              "    [theme=dark] .colab-df-convert {\n",
              "      background-color: #3B4455;\n",
              "      fill: #D2E3FC;\n",
              "    }\n",
              "\n",
              "    [theme=dark] .colab-df-convert:hover {\n",
              "      background-color: #434B5C;\n",
              "      box-shadow: 0px 1px 3px 1px rgba(0, 0, 0, 0.15);\n",
              "      filter: drop-shadow(0px 1px 2px rgba(0, 0, 0, 0.3));\n",
              "      fill: #FFFFFF;\n",
              "    }\n",
              "  </style>\n",
              "\n",
              "      <script>\n",
              "        const buttonEl =\n",
              "          document.querySelector('#df-f0ebf26f-779e-43dc-9877-e27eea1b500c button.colab-df-convert');\n",
              "        buttonEl.style.display =\n",
              "          google.colab.kernel.accessAllowed ? 'block' : 'none';\n",
              "\n",
              "        async function convertToInteractive(key) {\n",
              "          const element = document.querySelector('#df-f0ebf26f-779e-43dc-9877-e27eea1b500c');\n",
              "          const dataTable =\n",
              "            await google.colab.kernel.invokeFunction('convertToInteractive',\n",
              "                                                     [key], {});\n",
              "          if (!dataTable) return;\n",
              "\n",
              "          const docLinkHtml = 'Like what you see? Visit the ' +\n",
              "            '<a target=\"_blank\" href=https://colab.research.google.com/notebooks/data_table.ipynb>data table notebook</a>'\n",
              "            + ' to learn more about interactive tables.';\n",
              "          element.innerHTML = '';\n",
              "          dataTable['output_type'] = 'display_data';\n",
              "          await google.colab.output.renderOutput(dataTable, element);\n",
              "          const docLink = document.createElement('div');\n",
              "          docLink.innerHTML = docLinkHtml;\n",
              "          element.appendChild(docLink);\n",
              "        }\n",
              "      </script>\n",
              "    </div>\n",
              "  </div>\n",
              "  "
            ]
          },
          "metadata": {},
          "execution_count": 125
        }
      ],
      "source": [
        "results_mean=[]\n",
        "for i in clfs:\n",
        "    cvs= cross_val_score(i, X_train, y_train, cv=kfold)\n",
        "    results_mean.append(cvs.mean())\n",
        "\n",
        "score= pd.DataFrame(results_mean,index=Name)\n",
        "score.columns=['Accuracy']\n",
        "score.sort_values(by='Accuracy',ascending=False)"
      ],
      "id": "8bc5666c"
    },
    {
      "cell_type": "code",
      "execution_count": 126,
      "metadata": {
        "id": "7bf5bb51",
        "colab": {
          "base_uri": "https://localhost:8080/",
          "height": 363
        },
        "outputId": "82bc08b4-7ac8-4ff1-fae1-38c4157e43d6"
      },
      "outputs": [
        {
          "output_type": "execute_result",
          "data": {
            "text/plain": [
              "                               Accuracy\n",
              "Logistic Regression            0.996185\n",
              "XGB Boosting                   0.996156\n",
              "Naive Bayes classifier         0.996128\n",
              "Histogram Boosting Classifier  0.996062\n",
              "Light GBM                      0.995967\n",
              "Decision Tree                  0.995948\n",
              "Random Forest Classifier       0.995910\n",
              "KNN                            0.995513\n",
              "SVM                            0.989084\n",
              "GBBoosting                     0.989084"
            ],
            "text/html": [
              "\n",
              "  <div id=\"df-c5f6d4f3-6564-4c6d-9545-d089a8987627\">\n",
              "    <div class=\"colab-df-container\">\n",
              "      <div>\n",
              "<style scoped>\n",
              "    .dataframe tbody tr th:only-of-type {\n",
              "        vertical-align: middle;\n",
              "    }\n",
              "\n",
              "    .dataframe tbody tr th {\n",
              "        vertical-align: top;\n",
              "    }\n",
              "\n",
              "    .dataframe thead th {\n",
              "        text-align: right;\n",
              "    }\n",
              "</style>\n",
              "<table border=\"1\" class=\"dataframe\">\n",
              "  <thead>\n",
              "    <tr style=\"text-align: right;\">\n",
              "      <th></th>\n",
              "      <th>Accuracy</th>\n",
              "    </tr>\n",
              "  </thead>\n",
              "  <tbody>\n",
              "    <tr>\n",
              "      <th>Logistic Regression</th>\n",
              "      <td>0.996185</td>\n",
              "    </tr>\n",
              "    <tr>\n",
              "      <th>XGB Boosting</th>\n",
              "      <td>0.996156</td>\n",
              "    </tr>\n",
              "    <tr>\n",
              "      <th>Naive Bayes classifier</th>\n",
              "      <td>0.996128</td>\n",
              "    </tr>\n",
              "    <tr>\n",
              "      <th>Histogram Boosting Classifier</th>\n",
              "      <td>0.996062</td>\n",
              "    </tr>\n",
              "    <tr>\n",
              "      <th>Light GBM</th>\n",
              "      <td>0.995967</td>\n",
              "    </tr>\n",
              "    <tr>\n",
              "      <th>Decision Tree</th>\n",
              "      <td>0.995948</td>\n",
              "    </tr>\n",
              "    <tr>\n",
              "      <th>Random Forest Classifier</th>\n",
              "      <td>0.995910</td>\n",
              "    </tr>\n",
              "    <tr>\n",
              "      <th>KNN</th>\n",
              "      <td>0.995513</td>\n",
              "    </tr>\n",
              "    <tr>\n",
              "      <th>SVM</th>\n",
              "      <td>0.989084</td>\n",
              "    </tr>\n",
              "    <tr>\n",
              "      <th>GBBoosting</th>\n",
              "      <td>0.989084</td>\n",
              "    </tr>\n",
              "  </tbody>\n",
              "</table>\n",
              "</div>\n",
              "      <button class=\"colab-df-convert\" onclick=\"convertToInteractive('df-c5f6d4f3-6564-4c6d-9545-d089a8987627')\"\n",
              "              title=\"Convert this dataframe to an interactive table.\"\n",
              "              style=\"display:none;\">\n",
              "        \n",
              "  <svg xmlns=\"http://www.w3.org/2000/svg\" height=\"24px\"viewBox=\"0 0 24 24\"\n",
              "       width=\"24px\">\n",
              "    <path d=\"M0 0h24v24H0V0z\" fill=\"none\"/>\n",
              "    <path d=\"M18.56 5.44l.94 2.06.94-2.06 2.06-.94-2.06-.94-.94-2.06-.94 2.06-2.06.94zm-11 1L8.5 8.5l.94-2.06 2.06-.94-2.06-.94L8.5 2.5l-.94 2.06-2.06.94zm10 10l.94 2.06.94-2.06 2.06-.94-2.06-.94-.94-2.06-.94 2.06-2.06.94z\"/><path d=\"M17.41 7.96l-1.37-1.37c-.4-.4-.92-.59-1.43-.59-.52 0-1.04.2-1.43.59L10.3 9.45l-7.72 7.72c-.78.78-.78 2.05 0 2.83L4 21.41c.39.39.9.59 1.41.59.51 0 1.02-.2 1.41-.59l7.78-7.78 2.81-2.81c.8-.78.8-2.07 0-2.86zM5.41 20L4 18.59l7.72-7.72 1.47 1.35L5.41 20z\"/>\n",
              "  </svg>\n",
              "      </button>\n",
              "      \n",
              "  <style>\n",
              "    .colab-df-container {\n",
              "      display:flex;\n",
              "      flex-wrap:wrap;\n",
              "      gap: 12px;\n",
              "    }\n",
              "\n",
              "    .colab-df-convert {\n",
              "      background-color: #E8F0FE;\n",
              "      border: none;\n",
              "      border-radius: 50%;\n",
              "      cursor: pointer;\n",
              "      display: none;\n",
              "      fill: #1967D2;\n",
              "      height: 32px;\n",
              "      padding: 0 0 0 0;\n",
              "      width: 32px;\n",
              "    }\n",
              "\n",
              "    .colab-df-convert:hover {\n",
              "      background-color: #E2EBFA;\n",
              "      box-shadow: 0px 1px 2px rgba(60, 64, 67, 0.3), 0px 1px 3px 1px rgba(60, 64, 67, 0.15);\n",
              "      fill: #174EA6;\n",
              "    }\n",
              "\n",
              "    [theme=dark] .colab-df-convert {\n",
              "      background-color: #3B4455;\n",
              "      fill: #D2E3FC;\n",
              "    }\n",
              "\n",
              "    [theme=dark] .colab-df-convert:hover {\n",
              "      background-color: #434B5C;\n",
              "      box-shadow: 0px 1px 3px 1px rgba(0, 0, 0, 0.15);\n",
              "      filter: drop-shadow(0px 1px 2px rgba(0, 0, 0, 0.3));\n",
              "      fill: #FFFFFF;\n",
              "    }\n",
              "  </style>\n",
              "\n",
              "      <script>\n",
              "        const buttonEl =\n",
              "          document.querySelector('#df-c5f6d4f3-6564-4c6d-9545-d089a8987627 button.colab-df-convert');\n",
              "        buttonEl.style.display =\n",
              "          google.colab.kernel.accessAllowed ? 'block' : 'none';\n",
              "\n",
              "        async function convertToInteractive(key) {\n",
              "          const element = document.querySelector('#df-c5f6d4f3-6564-4c6d-9545-d089a8987627');\n",
              "          const dataTable =\n",
              "            await google.colab.kernel.invokeFunction('convertToInteractive',\n",
              "                                                     [key], {});\n",
              "          if (!dataTable) return;\n",
              "\n",
              "          const docLinkHtml = 'Like what you see? Visit the ' +\n",
              "            '<a target=\"_blank\" href=https://colab.research.google.com/notebooks/data_table.ipynb>data table notebook</a>'\n",
              "            + ' to learn more about interactive tables.';\n",
              "          element.innerHTML = '';\n",
              "          dataTable['output_type'] = 'display_data';\n",
              "          await google.colab.output.renderOutput(dataTable, element);\n",
              "          const docLink = document.createElement('div');\n",
              "          docLink.innerHTML = docLinkHtml;\n",
              "          element.appendChild(docLink);\n",
              "        }\n",
              "      </script>\n",
              "    </div>\n",
              "  </div>\n",
              "  "
            ]
          },
          "metadata": {},
          "execution_count": 126
        }
      ],
      "source": [
        "score.sort_values(by='Accuracy',ascending=False)"
      ],
      "id": "7bf5bb51"
    }
  ],
  "metadata": {
    "accelerator": "TPU",
    "colab": {
      "name": "Mr.Shivaraj Antaratana_GLAssignment_Online Retail_Analysis (1).ipynb",
      "provenance": []
    },
    "kernelspec": {
      "display_name": "Python 3 (ipykernel)",
      "language": "python",
      "name": "python3"
    },
    "language_info": {
      "codemirror_mode": {
        "name": "ipython",
        "version": 3
      },
      "file_extension": ".py",
      "mimetype": "text/x-python",
      "name": "python",
      "nbconvert_exporter": "python",
      "pygments_lexer": "ipython3",
      "version": "3.9.7"
    }
  },
  "nbformat": 4,
  "nbformat_minor": 5
}